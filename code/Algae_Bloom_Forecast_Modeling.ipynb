{
 "cells": [
  {
   "cell_type": "code",
   "execution_count": 1,
   "id": "1b1a1f1b",
   "metadata": {},
   "outputs": [],
   "source": [
    "import numpy as np\n",
    "import pandas as pd\n",
    "import statsmodels.tsa.api as sm\n",
    "from datetime import datetime, timedelta\n",
    "import matplotlib.pyplot as plt\n",
    "import seaborn as sns\n",
    "from sklearn.model_selection import TimeSeriesSplit\n",
    "from sklearn.metrics import mean_squared_error as mse"
   ]
  },
  {
   "cell_type": "code",
   "execution_count": null,
   "id": "9a2ceba9",
   "metadata": {},
   "outputs": [],
   "source": []
  },
  {
   "cell_type": "code",
   "execution_count": 2,
   "id": "90070b83",
   "metadata": {},
   "outputs": [
    {
     "name": "stderr",
     "output_type": "stream",
     "text": [
      "C:\\Users\\Peter Doze\\AppData\\Local\\Temp\\ipykernel_3032\\3733098441.py:1: DtypeWarning: Columns (18,19,22) have mixed types. Specify dtype option on import or set low_memory=False.\n",
      "  ab = pd.read_csv('../data/habsos_20230714.csv', parse_dates=['SAMPLE_DATE'])\n"
     ]
    }
   ],
   "source": [
    "ab = pd.read_csv('../data/habsos_20230714.csv', parse_dates=['SAMPLE_DATE'])\n",
    "ab = ab.sort_values(by=['SAMPLE_DATE'])\n",
    "ab = ab.dropna(subset=['SALINITY','WATER_TEMP'], how='any')\n",
    "abfl = ab.loc[ab.STATE_ID=='FL'].copy()"
   ]
  },
  {
   "cell_type": "code",
   "execution_count": 3,
   "id": "a4574d32",
   "metadata": {},
   "outputs": [],
   "source": [
    "#abfl = abfl.loc[abfl.CATEGORY != 'not observed'] in my field we don't get rid of zeros they help tell you about the trend"
   ]
  },
  {
   "cell_type": "markdown",
   "id": "ee67964a",
   "metadata": {},
   "source": [
    "## Prevoius EDA showed that most of the data is from Florida. So we train on Florida and try to predict the others. Previous EDA showed that the data is stationary so we can skip that step"
   ]
  },
  {
   "cell_type": "markdown",
   "id": "4bec10b2",
   "metadata": {},
   "source": [
    "### Recasting the data as Mean Cellcount by Month: a means of trying to standardize the data since the time intervals are irregular. We won't be able to forecast a particular month of algae blooms because the data has no seasonality but we might be able to forecast a month average."
   ]
  },
  {
   "cell_type": "code",
   "execution_count": 4,
   "id": "938aba3b",
   "metadata": {},
   "outputs": [],
   "source": [
    "abflgroup = abfl.groupby([abfl.SAMPLE_DATE.dt.year, abfl.SAMPLE_DATE.dt.month])\\\n",
    "    [['CELLCOUNT','SALINITY','WATER_TEMP']].mean()\n"
   ]
  },
  {
   "cell_type": "code",
   "execution_count": 5,
   "id": "ded41188",
   "metadata": {},
   "outputs": [],
   "source": [
    "idx = [datetime(i[0],i[1],1) for i in abflgroup.index]"
   ]
  },
  {
   "cell_type": "code",
   "execution_count": 6,
   "id": "17378baa",
   "metadata": {},
   "outputs": [],
   "source": [
    "ab2 = abflgroup.copy()\n",
    "ab2.index = idx"
   ]
  },
  {
   "cell_type": "markdown",
   "id": "8ebb7160",
   "metadata": {},
   "source": [
    "### Recasting the datat as Rolling Average by 30 days: a means of preparing the raw data by smoothing it and removing (some) noise, and better expose the structure of the processes."
   ]
  },
  {
   "cell_type": "code",
   "execution_count": 7,
   "id": "467a024f",
   "metadata": {},
   "outputs": [],
   "source": [
    "delta = timedelta(days=30)\n"
   ]
  },
  {
   "cell_type": "code",
   "execution_count": 8,
   "id": "7da79808",
   "metadata": {},
   "outputs": [],
   "source": [
    "ab3 = abfl.copy()\n",
    "ab3.set_index('SAMPLE_DATE', inplace=True)\n",
    "ab3['roll_avg'] = ab3.CELLCOUNT.rolling(delta, min_periods=1).mean()\n",
    "ab3['roll_avg'] = (ab3['roll_avg'] - ab3['roll_avg'].min()) / (ab3['roll_avg'].max() - ab3['roll_avg'].min())"
   ]
  },
  {
   "cell_type": "markdown",
   "id": "6b2e704c",
   "metadata": {},
   "source": [
    "### Splitting the data into test and train. I want to forecast on the last three years."
   ]
  },
  {
   "cell_type": "code",
   "execution_count": 9,
   "id": "8342445f",
   "metadata": {},
   "outputs": [],
   "source": [
    "# Normalizing the data\n",
    "ab2['CELLCOUNT'] = (ab2['CELLCOUNT'] - ab2['CELLCOUNT'].min()) / (ab2['CELLCOUNT'].max() - ab2['CELLCOUNT'].min())\n",
    "ab2['SALINITY'] = (ab2['SALINITY'] - ab2['SALINITY'].min()) / (ab2['SALINITY'].max() - ab2['SALINITY'].min())\n",
    "ab2['WATER_TEMP'] = (ab2['WATER_TEMP'] - ab2['WATER_TEMP'].min()) / (ab2['WATER_TEMP'].max() - ab2['WATER_TEMP'].min())\n",
    "\n",
    "ab3['CELLCOUNT'] = (ab3['CELLCOUNT'] - ab3['CELLCOUNT'].min()) / (ab3['CELLCOUNT'].max() - ab3['CELLCOUNT'].min())\n",
    "ab3['SALINITY'] = (ab3['SALINITY'] - ab3['SALINITY'].min()) / (ab3['SALINITY'].max() - ab3['SALINITY'].min())\n",
    "ab3['WATER_TEMP'] = (ab3['WATER_TEMP'] - ab3['WATER_TEMP'].min()) / (ab3['WATER_TEMP'].max() - ab3['WATER_TEMP'].min())"
   ]
  },
  {
   "cell_type": "code",
   "execution_count": 10,
   "id": "0f31053c",
   "metadata": {},
   "outputs": [],
   "source": [
    "trainab2 = ab2.loc[ab2.index < datetime(2020,1,1)].copy()\n",
    "testab2 = ab2.loc[ab2.index >= datetime(2020,1,1)].copy()\n",
    "trainab3 = ab3.loc[ab3.index < datetime(2020,1,1)].copy()\n",
    "testab3 = ab3.loc[ab3.index >= datetime(2020,1,1)].copy()"
   ]
  },
  {
   "cell_type": "markdown",
   "id": "ea90f6f9",
   "metadata": {},
   "source": [
    "## Even though we want to utilize the water temp and salinity, the simple exponential smoothing (for time series with no trend and no seasonality) and ARIMA are built for univariate data, so we will use the water temp and salinity in the random forest model"
   ]
  },
  {
   "cell_type": "markdown",
   "id": "2fd707c4",
   "metadata": {},
   "source": [
    "### Simple Exponential Smoothing"
   ]
  },
  {
   "cell_type": "markdown",
   "id": "6974f30f",
   "metadata": {},
   "source": [
    "#### ab2 : Average Per Month"
   ]
  },
  {
   "cell_type": "code",
   "execution_count": 11,
   "id": "da707a65",
   "metadata": {},
   "outputs": [],
   "source": [
    "alpha = np.arange(0,1.05,0.05)\n",
    "splitstrain = 12\n",
    "splitstest = 1#3"
   ]
  },
  {
   "cell_type": "code",
   "execution_count": 12,
   "id": "c6741145",
   "metadata": {},
   "outputs": [],
   "source": [
    "#rmses = np.zeros((len(alpha), splitstrain))"
   ]
  },
  {
   "cell_type": "code",
   "execution_count": 13,
   "id": "16fb285c",
   "metadata": {
    "scrolled": true
   },
   "outputs": [],
   "source": [
    "#cv = TimeSeriesSplit(splitstrain, test_size=splitstest)\n",
    "#cv.split(trainab2)\n",
    "#for train_index, test_index in cv.split(trainab2):\n",
    "#    a = test_index\n",
    "#    print(train_index,test_index)"
   ]
  },
  {
   "cell_type": "code",
   "execution_count": 14,
   "id": "2ff6a58e",
   "metadata": {},
   "outputs": [],
   "source": [
    "#a\n",
    "#trainab2.iloc[a]"
   ]
  },
  {
   "cell_type": "code",
   "execution_count": 15,
   "id": "d78de48c",
   "metadata": {},
   "outputs": [],
   "source": [
    "from statsmodels.tsa.api import SimpleExpSmoothing"
   ]
  },
  {
   "cell_type": "code",
   "execution_count": 16,
   "id": "eb21243f",
   "metadata": {},
   "outputs": [],
   "source": [
    "#For some reason doesn't like being in a function, I'm goign to ignore for now\n"
   ]
  },
  {
   "cell_type": "code",
   "execution_count": 17,
   "id": "7f0086f9",
   "metadata": {},
   "outputs": [
    {
     "name": "stdout",
     "output_type": "stream",
     "text": [
      "[600]\n",
      "[601]\n",
      "[602]\n",
      "[603]\n",
      "[604]\n",
      "[605]\n",
      "[606]\n",
      "[607]\n",
      "[608]\n",
      "[609]\n",
      "[610]\n",
      "[611]\n"
     ]
    }
   ],
   "source": [
    "rmses = np.zeros((len(alpha), splitstrain))\n",
    "cv = TimeSeriesSplit(splitstrain, test_size=splitstest)\n",
    "c = 0\n",
    "scale=1\n",
    "for train_index, test_index in cv.split(trainab2):\n",
    "    tv_tt = trainab2.iloc[train_index]\n",
    "    tv_ho = trainab2.iloc[test_index]\n",
    "    print(test_index) #making sure the splits are working\n",
    "    for i, j in enumerate(alpha):\n",
    "        fit = SimpleExpSmoothing(tv_tt.CELLCOUNT.values/scale).fit(smoothing_level=j, optimized=False)\n",
    "        prediction = fit.forecast(len(tv_ho))\n",
    "        rmses[i,c] = mse(tv_ho.CELLCOUNT.values/scale, prediction, squared=False)\n",
    "\n",
    "        plt.figure(figsize=(10,8))\n",
    "        plt.plot(tv_ho.index, tv_ho.CELLCOUNT/scale, 'b',label=\"Test Data\")\n",
    "        plt.plot(tv_ho.index, prediction, 'r',label=\"Forecast\")\n",
    "        plt.xlabel(\"Date\")\n",
    "        plt.ylabel(\"Cell Count\")\n",
    "        plt.title(f\"Alpha {j} Simple Exp Smoothing Forecast of Per Month Data\")\n",
    "        plt.legend()\n",
    "        plt.savefig(f\"ab2_simpleExpSmoothing/Alpha_{j}_Column_{c}_Simple_Exp_Smoothing_Forecast_of_Per_Month_Data.png\")\n",
    "        plt.close()\n",
    "\n",
    "    \n",
    "    c += 1\n"
   ]
  },
  {
   "cell_type": "code",
   "execution_count": 18,
   "id": "1bcea991",
   "metadata": {},
   "outputs": [],
   "source": [
    "#alpha = np.arange(0,1.05,0.05)\n",
    "#splitstrain = 12\n",
    "#splitstest = 3"
   ]
  },
  {
   "cell_type": "code",
   "execution_count": 19,
   "id": "1e84e906",
   "metadata": {},
   "outputs": [],
   "source": [
    "#rmsessesab2 = ses(alpha, splitstrain, splitstest, trainab2)"
   ]
  },
  {
   "cell_type": "code",
   "execution_count": 20,
   "id": "aff76e78",
   "metadata": {},
   "outputs": [
    {
     "name": "stdout",
     "output_type": "stream",
     "text": [
      "Room Mean Square for Alpha 0.0 is 2.445153e-02\n",
      "Room Mean Square for Alpha 0.05 is 3.987336e-02\n",
      "Room Mean Square for Alpha 0.1 is 4.432938e-02\n",
      "Room Mean Square for Alpha 0.15000000000000002 is 4.586778e-02\n",
      "Room Mean Square for Alpha 0.2 is 4.577101e-02\n",
      "Room Mean Square for Alpha 0.25 is 4.485118e-02\n",
      "Room Mean Square for Alpha 0.30000000000000004 is 4.361966e-02\n",
      "Room Mean Square for Alpha 0.35000000000000003 is 4.236844e-02\n",
      "Room Mean Square for Alpha 0.4 is 4.124384e-02\n",
      "Room Mean Square for Alpha 0.45 is 4.030479e-02\n",
      "Room Mean Square for Alpha 0.5 is 3.956198e-02\n",
      "Room Mean Square for Alpha 0.55 is 3.900195e-02\n",
      "Room Mean Square for Alpha 0.6000000000000001 is 3.860286e-02\n",
      "Room Mean Square for Alpha 0.65 is 3.833661e-02\n",
      "Room Mean Square for Alpha 0.7000000000000001 is 3.817429e-02\n",
      "Room Mean Square for Alpha 0.75 is 3.809329e-02\n",
      "Room Mean Square for Alpha 0.8 is 3.807321e-02\n",
      "Room Mean Square for Alpha 0.8500000000000001 is 3.809633e-02\n",
      "Room Mean Square for Alpha 0.9 is 3.814872e-02\n",
      "Room Mean Square for Alpha 0.9500000000000001 is 3.821629e-02\n",
      "Room Mean Square for Alpha 1.0 is 3.837679e-02\n",
      "Best RMS is 2.445153e-02\n"
     ]
    }
   ],
   "source": [
    "sesrms = np.zeros(len(alpha))\n",
    "for i,j in enumerate(alpha):\n",
    "    avg_rms = rmses[i,:].mean()\n",
    "    sesrms[i] = avg_rms\n",
    "    k = \"{:e}\".format(avg_rms)\n",
    "    print(f\"Room Mean Square for Alpha {j} is {k}\")\n",
    "\n",
    "best = \"{:e}\".format(sesrms.min())\n",
    "print(f\"Best RMS is {best}\")"
   ]
  },
  {
   "cell_type": "markdown",
   "id": "ec1ce297",
   "metadata": {},
   "source": [
    "## <span style=color:red> Best Result was Alpha = 1.0 at RMS 9.273882e+04 </span>"
   ]
  },
  {
   "cell_type": "code",
   "execution_count": 21,
   "id": "caffdc9a",
   "metadata": {},
   "outputs": [
    {
     "data": {
      "text/plain": [
       "Text(0.5, 1.0, 'Simple Exponential Smoothing Forecast')"
      ]
     },
     "execution_count": 21,
     "metadata": {},
     "output_type": "execute_result"
    },
    {
     "data": {
      "image/png": "[encoded data removed]",
      "text/plain": [
       "<Figure size 640x480 with 1 Axes>"
      ]
     },
     "metadata": {},
     "output_type": "display_data"
    }
   ],
   "source": [
    "fitab2 = SimpleExpSmoothing(trainab2.CELLCOUNT.values).fit(smoothing_level=0.0, optimized=False)\n",
    "predictionab2 = fitab2.forecast(len(testab2))\n",
    "\n",
    "plt.plot(testab2.index, testab2.CELLCOUNT)\n",
    "plt.plot(testab2.index, predictionab2)\n",
    "plt.xlabel(\"Date\")\n",
    "plt.ylabel(\"Normalized Cellcount\")\n",
    "plt.title(\"Simple Exponential Smoothing Forecast\")"
   ]
  },
  {
   "cell_type": "code",
   "execution_count": 22,
   "id": "1ff5fa47",
   "metadata": {},
   "outputs": [
    {
     "data": {
      "text/plain": [
       "0.08511252170691645"
      ]
     },
     "execution_count": 22,
     "metadata": {},
     "output_type": "execute_result"
    }
   ],
   "source": [
    "mse(testab2.CELLCOUNT, predictionab2, squared=False)"
   ]
  },
  {
   "cell_type": "markdown",
   "id": "4b7b0f6d",
   "metadata": {},
   "source": [
    "#### ab3 : Rolling Average"
   ]
  },
  {
   "cell_type": "code",
   "execution_count": 23,
   "id": "bbe7955a",
   "metadata": {},
   "outputs": [
    {
     "data": {
      "text/plain": [
       "75825"
      ]
     },
     "execution_count": 23,
     "metadata": {},
     "output_type": "execute_result"
    }
   ],
   "source": [
    "len(trainab3.roll_avg)"
   ]
  },
  {
   "cell_type": "code",
   "execution_count": 24,
   "id": "f414bebb",
   "metadata": {},
   "outputs": [],
   "source": [
    "alpha = np.arange(0,1.05,0.05)\n",
    "splitstrain = 12\n",
    "splitstest = 5055 #3/15 of the whole same as for ab2"
   ]
  },
  {
   "cell_type": "code",
   "execution_count": 25,
   "id": "eb5414f5",
   "metadata": {},
   "outputs": [
    {
     "name": "stdout",
     "output_type": "stream",
     "text": [
      "[15165 15166 15167 ... 20217 20218 20219]\n",
      "[20220 20221 20222 ... 25272 25273 25274]\n",
      "[25275 25276 25277 ... 30327 30328 30329]\n",
      "[30330 30331 30332 ... 35382 35383 35384]\n",
      "[35385 35386 35387 ... 40437 40438 40439]\n",
      "[40440 40441 40442 ... 45492 45493 45494]\n",
      "[45495 45496 45497 ... 50547 50548 50549]\n",
      "[50550 50551 50552 ... 55602 55603 55604]\n",
      "[55605 55606 55607 ... 60657 60658 60659]\n",
      "[60660 60661 60662 ... 65712 65713 65714]\n",
      "[65715 65716 65717 ... 70767 70768 70769]\n",
      "[70770 70771 70772 ... 75822 75823 75824]\n"
     ]
    }
   ],
   "source": [
    "rmses = np.zeros((len(alpha), splitstrain))\n",
    "cv = TimeSeriesSplit(splitstrain, test_size=splitstest)\n",
    "c = 0\n",
    "scale = 1\n",
    "for train_index, test_index in cv.split(trainab3):\n",
    "    tv_tt = trainab3.iloc[train_index]\n",
    "    tv_ho = trainab3.iloc[test_index]\n",
    "    print(test_index) #making sure the splits are working\n",
    "    for i, j in enumerate(alpha):\n",
    "        fit = SimpleExpSmoothing(tv_tt.roll_avg.values/scale).fit(smoothing_level=j, optimized=False)\n",
    "        prediction = fit.forecast(len(tv_ho))\n",
    "        rmses[i,c] = mse(tv_ho.roll_avg.values/scale, prediction, squared=False)\n",
    "\n",
    "        plt.figure(figsize=(10,8))\n",
    "        plt.plot(tv_ho.index, tv_ho.roll_avg/scale, 'b',label=\"Test Data\")\n",
    "        plt.plot(tv_ho.index, prediction, 'r',label=\"Forecast\")\n",
    "        plt.xlabel(\"Date\")\n",
    "        plt.ylabel(\"Cell Count\")\n",
    "        plt.title(f\"Alpha {j} Column {c} Simple Exp Smoothing Forecast of Per Month Data\")\n",
    "        plt.legend()\n",
    "        plt.savefig(f\"ab3_simpleExpSmoothing/Alpha_{j}_Column_{c}_Simple_Exp_Smoothing_Forecast_of_Per_Month_Data.png\")\n",
    "        plt.close()\n",
    "\n",
    "    \n",
    "    c += 1"
   ]
  },
  {
   "cell_type": "code",
   "execution_count": 26,
   "id": "83be5b82",
   "metadata": {},
   "outputs": [
    {
     "name": "stdout",
     "output_type": "stream",
     "text": [
      "Room Mean Square for Alpha 0.0 is 5.496211e-02\n",
      "Room Mean Square for Alpha 0.05 is 5.350859e-02\n",
      "Room Mean Square for Alpha 0.1 is 5.352951e-02\n",
      "Room Mean Square for Alpha 0.15000000000000002 is 5.352846e-02\n",
      "Room Mean Square for Alpha 0.2 is 5.352856e-02\n",
      "Room Mean Square for Alpha 0.25 is 5.352911e-02\n",
      "Room Mean Square for Alpha 0.30000000000000004 is 5.352982e-02\n",
      "Room Mean Square for Alpha 0.35000000000000003 is 5.353058e-02\n",
      "Room Mean Square for Alpha 0.4 is 5.353137e-02\n",
      "Room Mean Square for Alpha 0.45 is 5.353218e-02\n",
      "Room Mean Square for Alpha 0.5 is 5.353302e-02\n",
      "Room Mean Square for Alpha 0.55 is 5.353389e-02\n",
      "Room Mean Square for Alpha 0.6000000000000001 is 5.353481e-02\n",
      "Room Mean Square for Alpha 0.65 is 5.353578e-02\n",
      "Room Mean Square for Alpha 0.7000000000000001 is 5.353680e-02\n",
      "Room Mean Square for Alpha 0.75 is 5.353789e-02\n",
      "Room Mean Square for Alpha 0.8 is 5.353903e-02\n",
      "Room Mean Square for Alpha 0.8500000000000001 is 5.354022e-02\n",
      "Room Mean Square for Alpha 0.9 is 5.354147e-02\n",
      "Room Mean Square for Alpha 0.9500000000000001 is 5.354276e-02\n",
      "Room Mean Square for Alpha 1.0 is 5.354410e-02\n",
      "Best RMS is 5.350859e-02\n"
     ]
    }
   ],
   "source": [
    "sesrms = np.zeros(len(alpha))\n",
    "for i,j in enumerate(alpha):\n",
    "    avg_rms = rmses[i,:].mean()\n",
    "    sesrms[i] = avg_rms\n",
    "    k = \"{:e}\".format(avg_rms)\n",
    "    print(f\"Room Mean Square for Alpha {j} is {k}\")\n",
    "\n",
    "best = \"{:e}\".format(sesrms.min())\n",
    "print(f\"Best RMS is {best}\")"
   ]
  },
  {
   "cell_type": "markdown",
   "id": "96adc974",
   "metadata": {},
   "source": [
    "## <span style=color:red> Best Result was Alpha = 0.05 at RMS 9.332373e+05 </span>"
   ]
  },
  {
   "cell_type": "code",
   "execution_count": 27,
   "id": "997a8249",
   "metadata": {},
   "outputs": [
    {
     "data": {
      "text/plain": [
       "Text(0.5, 1.0, 'Simple Exponential Smoothing Forecast')"
      ]
     },
     "execution_count": 27,
     "metadata": {},
     "output_type": "execute_result"
    },
    {
     "data": {
      "image/png": "[encoded data removed]",
      "text/plain": [
       "<Figure size 640x480 with 1 Axes>"
      ]
     },
     "metadata": {},
     "output_type": "display_data"
    }
   ],
   "source": [
    "fitab3 = SimpleExpSmoothing(trainab3.roll_avg.values).fit(smoothing_level=0.05, optimized=False)\n",
    "predictionab3 = fitab3.forecast(len(testab3))\n",
    "\n",
    "plt.plot(testab3.index, testab3.roll_avg)\n",
    "plt.plot(testab3.index, predictionab3)\n",
    "plt.xlabel(\"Date\")\n",
    "plt.ylabel(\"Normalized Cellcount\")\n",
    "plt.title(\"Simple Exponential Smoothing Forecast\")"
   ]
  },
  {
   "cell_type": "code",
   "execution_count": 28,
   "id": "78f697f2",
   "metadata": {},
   "outputs": [
    {
     "data": {
      "text/plain": [
       "0.011732990082540341"
      ]
     },
     "execution_count": 28,
     "metadata": {},
     "output_type": "execute_result"
    }
   ],
   "source": [
    "mse(testab3.CELLCOUNT, predictionab3, squared=False)"
   ]
  },
  {
   "cell_type": "code",
   "execution_count": null,
   "id": "8be49b73",
   "metadata": {},
   "outputs": [],
   "source": []
  },
  {
   "cell_type": "code",
   "execution_count": null,
   "id": "091c76dc",
   "metadata": {},
   "outputs": [],
   "source": []
  },
  {
   "cell_type": "markdown",
   "id": "f65e5b60",
   "metadata": {},
   "source": [
    "### ARIMA"
   ]
  },
  {
   "cell_type": "markdown",
   "id": "369b1837",
   "metadata": {},
   "source": [
    "#### ab2 : Average Per Month"
   ]
  },
  {
   "cell_type": "code",
   "execution_count": 10,
   "id": "a419a600",
   "metadata": {},
   "outputs": [],
   "source": [
    "#p number of previous observations used in the model\n",
    "#d number of times it undergoes differencing\n",
    "#q moving average window"
   ]
  },
  {
   "cell_type": "code",
   "execution_count": 29,
   "id": "eef598b3",
   "metadata": {},
   "outputs": [],
   "source": [
    "import pmdarima as pm"
   ]
  },
  {
   "cell_type": "code",
   "execution_count": 30,
   "id": "356eaccd",
   "metadata": {},
   "outputs": [
    {
     "name": "stdout",
     "output_type": "stream",
     "text": [
      "Performing stepwise search to minimize aic\n",
      " ARIMA(1,1,1)(0,0,0)[0] intercept   : AIC=-1560.523, Time=0.63 sec\n",
      " ARIMA(0,1,0)(0,0,0)[0] intercept   : AIC=-1234.402, Time=0.09 sec\n",
      " ARIMA(1,1,0)(0,0,0)[0] intercept   : AIC=-1388.081, Time=0.13 sec\n",
      " ARIMA(0,1,1)(0,0,0)[0] intercept   : AIC=-1562.255, Time=0.38 sec\n",
      " ARIMA(0,1,0)(0,0,0)[0]             : AIC=-1236.402, Time=0.06 sec\n",
      " ARIMA(0,1,2)(0,0,0)[0] intercept   : AIC=-1560.538, Time=0.55 sec\n",
      " ARIMA(1,1,2)(0,0,0)[0] intercept   : AIC=-1566.673, Time=0.69 sec\n",
      " ARIMA(2,1,2)(0,0,0)[0] intercept   : AIC=-1566.655, Time=0.90 sec\n",
      " ARIMA(1,1,3)(0,0,0)[0] intercept   : AIC=-1566.224, Time=0.96 sec\n",
      " ARIMA(0,1,3)(0,0,0)[0] intercept   : AIC=-1559.121, Time=0.84 sec\n",
      " ARIMA(2,1,1)(0,0,0)[0] intercept   : AIC=-1558.823, Time=0.79 sec\n",
      " ARIMA(2,1,3)(0,0,0)[0] intercept   : AIC=-1585.154, Time=1.09 sec\n",
      " ARIMA(3,1,3)(0,0,0)[0] intercept   : AIC=-1589.369, Time=1.32 sec\n",
      " ARIMA(3,1,2)(0,0,0)[0] intercept   : AIC=-1569.873, Time=1.17 sec\n",
      " ARIMA(4,1,3)(0,0,0)[0] intercept   : AIC=-1589.661, Time=1.33 sec\n",
      " ARIMA(4,1,2)(0,0,0)[0] intercept   : AIC=-1573.820, Time=1.26 sec\n",
      " ARIMA(5,1,3)(0,0,0)[0] intercept   : AIC=-1586.565, Time=1.55 sec\n",
      " ARIMA(4,1,4)(0,0,0)[0] intercept   : AIC=-1590.569, Time=1.67 sec\n",
      " ARIMA(3,1,4)(0,0,0)[0] intercept   : AIC=-1590.910, Time=1.53 sec\n",
      " ARIMA(2,1,4)(0,0,0)[0] intercept   : AIC=-1592.447, Time=1.38 sec\n",
      " ARIMA(1,1,4)(0,0,0)[0] intercept   : AIC=-1567.298, Time=1.01 sec\n",
      " ARIMA(2,1,5)(0,0,0)[0] intercept   : AIC=-1592.325, Time=1.55 sec\n",
      " ARIMA(1,1,5)(0,0,0)[0] intercept   : AIC=-1568.367, Time=2.78 sec\n",
      " ARIMA(3,1,5)(0,0,0)[0] intercept   : AIC=-1588.672, Time=1.81 sec\n",
      " ARIMA(2,1,4)(0,0,0)[0]             : AIC=-1594.803, Time=0.93 sec\n",
      " ARIMA(1,1,4)(0,0,0)[0]             : AIC=-1569.320, Time=0.77 sec\n",
      " ARIMA(2,1,3)(0,0,0)[0]             : AIC=-1587.427, Time=0.69 sec\n",
      " ARIMA(3,1,4)(0,0,0)[0]             : AIC=-1593.366, Time=0.95 sec\n",
      " ARIMA(2,1,5)(0,0,0)[0]             : AIC=-1594.309, Time=1.20 sec\n",
      " ARIMA(1,1,3)(0,0,0)[0]             : AIC=-1568.200, Time=0.44 sec\n",
      " ARIMA(1,1,5)(0,0,0)[0]             : AIC=-1572.047, Time=0.84 sec\n",
      " ARIMA(3,1,3)(0,0,0)[0]             : AIC=-1592.344, Time=0.78 sec\n",
      " ARIMA(3,1,5)(0,0,0)[0]             : AIC=-1590.989, Time=1.14 sec\n",
      "\n",
      "Best model:  ARIMA(2,1,4)(0,0,0)[0]          \n",
      "Total fit time: 33.224 seconds\n"
     ]
    },
    {
     "data": {
      "text/html": [
       "<table class=\"simpletable\">\n",
       "<caption>SARIMAX Results</caption>\n",
       "<tr>\n",
       "  <th>Dep. Variable:</th>           <td>y</td>        <th>  No. Observations:  </th>    <td>612</td>   \n",
       "</tr>\n",
       "<tr>\n",
       "  <th>Model:</th>           <td>SARIMAX(2, 1, 4)</td> <th>  Log Likelihood     </th>  <td>804.401</td> \n",
       "</tr>\n",
       "<tr>\n",
       "  <th>Date:</th>            <td>Fri, 26 Apr 2024</td> <th>  AIC                </th> <td>-1594.803</td>\n",
       "</tr>\n",
       "<tr>\n",
       "  <th>Time:</th>                <td>18:10:41</td>     <th>  BIC                </th> <td>-1563.897</td>\n",
       "</tr>\n",
       "<tr>\n",
       "  <th>Sample:</th>                  <td>0</td>        <th>  HQIC               </th> <td>-1582.782</td>\n",
       "</tr>\n",
       "<tr>\n",
       "  <th></th>                      <td> - 612</td>      <th>                     </th>     <td> </td>    \n",
       "</tr>\n",
       "<tr>\n",
       "  <th>Covariance Type:</th>        <td>opg</td>       <th>                     </th>     <td> </td>    \n",
       "</tr>\n",
       "</table>\n",
       "<table class=\"simpletable\">\n",
       "<tr>\n",
       "     <td></td>       <th>coef</th>     <th>std err</th>      <th>z</th>      <th>P>|z|</th>  <th>[0.025</th>    <th>0.975]</th>  \n",
       "</tr>\n",
       "<tr>\n",
       "  <th>ar.L1</th>  <td>   -1.2231</td> <td>    0.047</td> <td>  -26.040</td> <td> 0.000</td> <td>   -1.315</td> <td>   -1.131</td>\n",
       "</tr>\n",
       "<tr>\n",
       "  <th>ar.L2</th>  <td>   -0.8482</td> <td>    0.039</td> <td>  -21.773</td> <td> 0.000</td> <td>   -0.925</td> <td>   -0.772</td>\n",
       "</tr>\n",
       "<tr>\n",
       "  <th>ma.L1</th>  <td>    0.4306</td> <td>    0.054</td> <td>    8.024</td> <td> 0.000</td> <td>    0.325</td> <td>    0.536</td>\n",
       "</tr>\n",
       "<tr>\n",
       "  <th>ma.L2</th>  <td>   -0.1777</td> <td>    0.043</td> <td>   -4.112</td> <td> 0.000</td> <td>   -0.262</td> <td>   -0.093</td>\n",
       "</tr>\n",
       "<tr>\n",
       "  <th>ma.L3</th>  <td>   -0.7011</td> <td>    0.043</td> <td>  -16.369</td> <td> 0.000</td> <td>   -0.785</td> <td>   -0.617</td>\n",
       "</tr>\n",
       "<tr>\n",
       "  <th>ma.L4</th>  <td>   -0.1904</td> <td>    0.032</td> <td>   -5.869</td> <td> 0.000</td> <td>   -0.254</td> <td>   -0.127</td>\n",
       "</tr>\n",
       "<tr>\n",
       "  <th>sigma2</th> <td>    0.0042</td> <td> 7.11e-05</td> <td>   58.996</td> <td> 0.000</td> <td>    0.004</td> <td>    0.004</td>\n",
       "</tr>\n",
       "</table>\n",
       "<table class=\"simpletable\">\n",
       "<tr>\n",
       "  <th>Ljung-Box (L1) (Q):</th>     <td>0.03</td> <th>  Jarque-Bera (JB):  </th> <td>81514.40</td>\n",
       "</tr>\n",
       "<tr>\n",
       "  <th>Prob(Q):</th>                <td>0.86</td> <th>  Prob(JB):          </th>   <td>0.00</td>  \n",
       "</tr>\n",
       "<tr>\n",
       "  <th>Heteroskedasticity (H):</th> <td>0.44</td> <th>  Skew:              </th>   <td>5.52</td>  \n",
       "</tr>\n",
       "<tr>\n",
       "  <th>Prob(H) (two-sided):</th>    <td>0.00</td> <th>  Kurtosis:          </th>   <td>58.50</td> \n",
       "</tr>\n",
       "</table><br/><br/>Warnings:<br/>[1] Covariance matrix calculated using the outer product of gradients (complex-step)."
      ],
      "text/latex": [
       "\\begin{center}\n",
       "\\begin{tabular}{lclc}\n",
       "\\toprule\n",
       "\\textbf{Dep. Variable:}          &        y         & \\textbf{  No. Observations:  } &    612      \\\\\n",
       "\\textbf{Model:}                  & SARIMAX(2, 1, 4) & \\textbf{  Log Likelihood     } &  804.401    \\\\\n",
       "\\textbf{Date:}                   & Fri, 26 Apr 2024 & \\textbf{  AIC                } & -1594.803   \\\\\n",
       "\\textbf{Time:}                   &     18:10:41     & \\textbf{  BIC                } & -1563.897   \\\\\n",
       "\\textbf{Sample:}                 &        0         & \\textbf{  HQIC               } & -1582.782   \\\\\n",
       "\\textbf{}                        &       - 612      & \\textbf{                     } &             \\\\\n",
       "\\textbf{Covariance Type:}        &       opg        & \\textbf{                     } &             \\\\\n",
       "\\bottomrule\n",
       "\\end{tabular}\n",
       "\\begin{tabular}{lcccccc}\n",
       "                & \\textbf{coef} & \\textbf{std err} & \\textbf{z} & \\textbf{P$> |$z$|$} & \\textbf{[0.025} & \\textbf{0.975]}  \\\\\n",
       "\\midrule\n",
       "\\textbf{ar.L1}  &      -1.2231  &        0.047     &   -26.040  &         0.000        &       -1.315    &       -1.131     \\\\\n",
       "\\textbf{ar.L2}  &      -0.8482  &        0.039     &   -21.773  &         0.000        &       -0.925    &       -0.772     \\\\\n",
       "\\textbf{ma.L1}  &       0.4306  &        0.054     &     8.024  &         0.000        &        0.325    &        0.536     \\\\\n",
       "\\textbf{ma.L2}  &      -0.1777  &        0.043     &    -4.112  &         0.000        &       -0.262    &       -0.093     \\\\\n",
       "\\textbf{ma.L3}  &      -0.7011  &        0.043     &   -16.369  &         0.000        &       -0.785    &       -0.617     \\\\\n",
       "\\textbf{ma.L4}  &      -0.1904  &        0.032     &    -5.869  &         0.000        &       -0.254    &       -0.127     \\\\\n",
       "\\textbf{sigma2} &       0.0042  &     7.11e-05     &    58.996  &         0.000        &        0.004    &        0.004     \\\\\n",
       "\\bottomrule\n",
       "\\end{tabular}\n",
       "\\begin{tabular}{lclc}\n",
       "\\textbf{Ljung-Box (L1) (Q):}     & 0.03 & \\textbf{  Jarque-Bera (JB):  } & 81514.40  \\\\\n",
       "\\textbf{Prob(Q):}                & 0.86 & \\textbf{  Prob(JB):          } &   0.00    \\\\\n",
       "\\textbf{Heteroskedasticity (H):} & 0.44 & \\textbf{  Skew:              } &   5.52    \\\\\n",
       "\\textbf{Prob(H) (two-sided):}    & 0.00 & \\textbf{  Kurtosis:          } &  58.50    \\\\\n",
       "\\bottomrule\n",
       "\\end{tabular}\n",
       "%\\caption{SARIMAX Results}\n",
       "\\end{center}\n",
       "\n",
       "Warnings: \\newline\n",
       " [1] Covariance matrix calculated using the outer product of gradients (complex-step)."
      ],
      "text/plain": [
       "<class 'statsmodels.iolib.summary.Summary'>\n",
       "\"\"\"\n",
       "                               SARIMAX Results                                \n",
       "==============================================================================\n",
       "Dep. Variable:                      y   No. Observations:                  612\n",
       "Model:               SARIMAX(2, 1, 4)   Log Likelihood                 804.401\n",
       "Date:                Fri, 26 Apr 2024   AIC                          -1594.803\n",
       "Time:                        18:10:41   BIC                          -1563.897\n",
       "Sample:                             0   HQIC                         -1582.782\n",
       "                                - 612                                         \n",
       "Covariance Type:                  opg                                         \n",
       "==============================================================================\n",
       "                 coef    std err          z      P>|z|      [0.025      0.975]\n",
       "------------------------------------------------------------------------------\n",
       "ar.L1         -1.2231      0.047    -26.040      0.000      -1.315      -1.131\n",
       "ar.L2         -0.8482      0.039    -21.773      0.000      -0.925      -0.772\n",
       "ma.L1          0.4306      0.054      8.024      0.000       0.325       0.536\n",
       "ma.L2         -0.1777      0.043     -4.112      0.000      -0.262      -0.093\n",
       "ma.L3         -0.7011      0.043    -16.369      0.000      -0.785      -0.617\n",
       "ma.L4         -0.1904      0.032     -5.869      0.000      -0.254      -0.127\n",
       "sigma2         0.0042   7.11e-05     58.996      0.000       0.004       0.004\n",
       "===================================================================================\n",
       "Ljung-Box (L1) (Q):                   0.03   Jarque-Bera (JB):             81514.40\n",
       "Prob(Q):                              0.86   Prob(JB):                         0.00\n",
       "Heteroskedasticity (H):               0.44   Skew:                             5.52\n",
       "Prob(H) (two-sided):                  0.00   Kurtosis:                        58.50\n",
       "===================================================================================\n",
       "\n",
       "Warnings:\n",
       "[1] Covariance matrix calculated using the outer product of gradients (complex-step).\n",
       "\"\"\""
      ]
     },
     "execution_count": 30,
     "metadata": {},
     "output_type": "execute_result"
    }
   ],
   "source": [
    "parfind = pm.auto_arima(trainab2['CELLCOUNT'], start_p=1, d=1,\n",
    "                       start_q=1, trace=True, error_action='ignore',\n",
    "                        seasonal=False, stepwise=True)\n",
    "\n",
    "parfind.summary()"
   ]
  },
  {
   "cell_type": "code",
   "execution_count": null,
   "id": "5c165c19",
   "metadata": {},
   "outputs": [],
   "source": [
    "# at seasonal = False the best model was (2,1,4)"
   ]
  },
  {
   "cell_type": "code",
   "execution_count": 31,
   "id": "34b41490",
   "metadata": {},
   "outputs": [],
   "source": [
    "trainarima2 = trainab2.copy()"
   ]
  },
  {
   "cell_type": "code",
   "execution_count": 32,
   "id": "9ff45f59",
   "metadata": {},
   "outputs": [],
   "source": [
    "trainarima2.index = trainarima2.index.to_period('M')"
   ]
  },
  {
   "cell_type": "code",
   "execution_count": 33,
   "id": "7d8013ef",
   "metadata": {},
   "outputs": [],
   "source": [
    "sarimaab2 = sm.ARIMA(trainarima2['CELLCOUNT'], order=(2,1,4))\n",
    "fitarimaab2 = sarimaab2.fit() "
   ]
  },
  {
   "cell_type": "code",
   "execution_count": 34,
   "id": "c1356c31",
   "metadata": {},
   "outputs": [
    {
     "data": {
      "text/html": [
       "<table class=\"simpletable\">\n",
       "<caption>SARIMAX Results</caption>\n",
       "<tr>\n",
       "  <th>Dep. Variable:</th>       <td>CELLCOUNT</td>    <th>  No. Observations:  </th>    <td>612</td>   \n",
       "</tr>\n",
       "<tr>\n",
       "  <th>Model:</th>            <td>ARIMA(2, 1, 4)</td>  <th>  Log Likelihood     </th>  <td>804.401</td> \n",
       "</tr>\n",
       "<tr>\n",
       "  <th>Date:</th>            <td>Fri, 26 Apr 2024</td> <th>  AIC                </th> <td>-1594.803</td>\n",
       "</tr>\n",
       "<tr>\n",
       "  <th>Time:</th>                <td>18:11:04</td>     <th>  BIC                </th> <td>-1563.897</td>\n",
       "</tr>\n",
       "<tr>\n",
       "  <th>Sample:</th>             <td>02-28-1954</td>    <th>  HQIC               </th> <td>-1582.782</td>\n",
       "</tr>\n",
       "<tr>\n",
       "  <th></th>                   <td>- 12-31-2019</td>   <th>                     </th>     <td> </td>    \n",
       "</tr>\n",
       "<tr>\n",
       "  <th>Covariance Type:</th>        <td>opg</td>       <th>                     </th>     <td> </td>    \n",
       "</tr>\n",
       "</table>\n",
       "<table class=\"simpletable\">\n",
       "<tr>\n",
       "     <td></td>       <th>coef</th>     <th>std err</th>      <th>z</th>      <th>P>|z|</th>  <th>[0.025</th>    <th>0.975]</th>  \n",
       "</tr>\n",
       "<tr>\n",
       "  <th>ar.L1</th>  <td>   -1.2231</td> <td>    0.047</td> <td>  -26.040</td> <td> 0.000</td> <td>   -1.315</td> <td>   -1.131</td>\n",
       "</tr>\n",
       "<tr>\n",
       "  <th>ar.L2</th>  <td>   -0.8482</td> <td>    0.039</td> <td>  -21.773</td> <td> 0.000</td> <td>   -0.925</td> <td>   -0.772</td>\n",
       "</tr>\n",
       "<tr>\n",
       "  <th>ma.L1</th>  <td>    0.4306</td> <td>    0.054</td> <td>    8.024</td> <td> 0.000</td> <td>    0.325</td> <td>    0.536</td>\n",
       "</tr>\n",
       "<tr>\n",
       "  <th>ma.L2</th>  <td>   -0.1777</td> <td>    0.043</td> <td>   -4.112</td> <td> 0.000</td> <td>   -0.262</td> <td>   -0.093</td>\n",
       "</tr>\n",
       "<tr>\n",
       "  <th>ma.L3</th>  <td>   -0.7011</td> <td>    0.043</td> <td>  -16.369</td> <td> 0.000</td> <td>   -0.785</td> <td>   -0.617</td>\n",
       "</tr>\n",
       "<tr>\n",
       "  <th>ma.L4</th>  <td>   -0.1904</td> <td>    0.032</td> <td>   -5.869</td> <td> 0.000</td> <td>   -0.254</td> <td>   -0.127</td>\n",
       "</tr>\n",
       "<tr>\n",
       "  <th>sigma2</th> <td>    0.0042</td> <td> 7.11e-05</td> <td>   58.996</td> <td> 0.000</td> <td>    0.004</td> <td>    0.004</td>\n",
       "</tr>\n",
       "</table>\n",
       "<table class=\"simpletable\">\n",
       "<tr>\n",
       "  <th>Ljung-Box (L1) (Q):</th>     <td>0.03</td> <th>  Jarque-Bera (JB):  </th> <td>81514.40</td>\n",
       "</tr>\n",
       "<tr>\n",
       "  <th>Prob(Q):</th>                <td>0.86</td> <th>  Prob(JB):          </th>   <td>0.00</td>  \n",
       "</tr>\n",
       "<tr>\n",
       "  <th>Heteroskedasticity (H):</th> <td>0.44</td> <th>  Skew:              </th>   <td>5.52</td>  \n",
       "</tr>\n",
       "<tr>\n",
       "  <th>Prob(H) (two-sided):</th>    <td>0.00</td> <th>  Kurtosis:          </th>   <td>58.50</td> \n",
       "</tr>\n",
       "</table><br/><br/>Warnings:<br/>[1] Covariance matrix calculated using the outer product of gradients (complex-step)."
      ],
      "text/latex": [
       "\\begin{center}\n",
       "\\begin{tabular}{lclc}\n",
       "\\toprule\n",
       "\\textbf{Dep. Variable:}          &    CELLCOUNT     & \\textbf{  No. Observations:  } &    612      \\\\\n",
       "\\textbf{Model:}                  &  ARIMA(2, 1, 4)  & \\textbf{  Log Likelihood     } &  804.401    \\\\\n",
       "\\textbf{Date:}                   & Fri, 26 Apr 2024 & \\textbf{  AIC                } & -1594.803   \\\\\n",
       "\\textbf{Time:}                   &     18:11:04     & \\textbf{  BIC                } & -1563.897   \\\\\n",
       "\\textbf{Sample:}                 &    02-28-1954    & \\textbf{  HQIC               } & -1582.782   \\\\\n",
       "\\textbf{}                        &   - 12-31-2019   & \\textbf{                     } &             \\\\\n",
       "\\textbf{Covariance Type:}        &       opg        & \\textbf{                     } &             \\\\\n",
       "\\bottomrule\n",
       "\\end{tabular}\n",
       "\\begin{tabular}{lcccccc}\n",
       "                & \\textbf{coef} & \\textbf{std err} & \\textbf{z} & \\textbf{P$> |$z$|$} & \\textbf{[0.025} & \\textbf{0.975]}  \\\\\n",
       "\\midrule\n",
       "\\textbf{ar.L1}  &      -1.2231  &        0.047     &   -26.040  &         0.000        &       -1.315    &       -1.131     \\\\\n",
       "\\textbf{ar.L2}  &      -0.8482  &        0.039     &   -21.773  &         0.000        &       -0.925    &       -0.772     \\\\\n",
       "\\textbf{ma.L1}  &       0.4306  &        0.054     &     8.024  &         0.000        &        0.325    &        0.536     \\\\\n",
       "\\textbf{ma.L2}  &      -0.1777  &        0.043     &    -4.112  &         0.000        &       -0.262    &       -0.093     \\\\\n",
       "\\textbf{ma.L3}  &      -0.7011  &        0.043     &   -16.369  &         0.000        &       -0.785    &       -0.617     \\\\\n",
       "\\textbf{ma.L4}  &      -0.1904  &        0.032     &    -5.869  &         0.000        &       -0.254    &       -0.127     \\\\\n",
       "\\textbf{sigma2} &       0.0042  &     7.11e-05     &    58.996  &         0.000        &        0.004    &        0.004     \\\\\n",
       "\\bottomrule\n",
       "\\end{tabular}\n",
       "\\begin{tabular}{lclc}\n",
       "\\textbf{Ljung-Box (L1) (Q):}     & 0.03 & \\textbf{  Jarque-Bera (JB):  } & 81514.40  \\\\\n",
       "\\textbf{Prob(Q):}                & 0.86 & \\textbf{  Prob(JB):          } &   0.00    \\\\\n",
       "\\textbf{Heteroskedasticity (H):} & 0.44 & \\textbf{  Skew:              } &   5.52    \\\\\n",
       "\\textbf{Prob(H) (two-sided):}    & 0.00 & \\textbf{  Kurtosis:          } &  58.50    \\\\\n",
       "\\bottomrule\n",
       "\\end{tabular}\n",
       "%\\caption{SARIMAX Results}\n",
       "\\end{center}\n",
       "\n",
       "Warnings: \\newline\n",
       " [1] Covariance matrix calculated using the outer product of gradients (complex-step)."
      ],
      "text/plain": [
       "<class 'statsmodels.iolib.summary.Summary'>\n",
       "\"\"\"\n",
       "                               SARIMAX Results                                \n",
       "==============================================================================\n",
       "Dep. Variable:              CELLCOUNT   No. Observations:                  612\n",
       "Model:                 ARIMA(2, 1, 4)   Log Likelihood                 804.401\n",
       "Date:                Fri, 26 Apr 2024   AIC                          -1594.803\n",
       "Time:                        18:11:04   BIC                          -1563.897\n",
       "Sample:                    02-28-1954   HQIC                         -1582.782\n",
       "                         - 12-31-2019                                         \n",
       "Covariance Type:                  opg                                         \n",
       "==============================================================================\n",
       "                 coef    std err          z      P>|z|      [0.025      0.975]\n",
       "------------------------------------------------------------------------------\n",
       "ar.L1         -1.2231      0.047    -26.040      0.000      -1.315      -1.131\n",
       "ar.L2         -0.8482      0.039    -21.773      0.000      -0.925      -0.772\n",
       "ma.L1          0.4306      0.054      8.024      0.000       0.325       0.536\n",
       "ma.L2         -0.1777      0.043     -4.112      0.000      -0.262      -0.093\n",
       "ma.L3         -0.7011      0.043    -16.369      0.000      -0.785      -0.617\n",
       "ma.L4         -0.1904      0.032     -5.869      0.000      -0.254      -0.127\n",
       "sigma2         0.0042   7.11e-05     58.996      0.000       0.004       0.004\n",
       "===================================================================================\n",
       "Ljung-Box (L1) (Q):                   0.03   Jarque-Bera (JB):             81514.40\n",
       "Prob(Q):                              0.86   Prob(JB):                         0.00\n",
       "Heteroskedasticity (H):               0.44   Skew:                             5.52\n",
       "Prob(H) (two-sided):                  0.00   Kurtosis:                        58.50\n",
       "===================================================================================\n",
       "\n",
       "Warnings:\n",
       "[1] Covariance matrix calculated using the outer product of gradients (complex-step).\n",
       "\"\"\""
      ]
     },
     "execution_count": 34,
     "metadata": {},
     "output_type": "execute_result"
    }
   ],
   "source": [
    "fitarimaab2.summary()"
   ]
  },
  {
   "cell_type": "code",
   "execution_count": null,
   "id": "d490f82f",
   "metadata": {},
   "outputs": [],
   "source": []
  },
  {
   "cell_type": "code",
   "execution_count": null,
   "id": "f34b196a",
   "metadata": {},
   "outputs": [],
   "source": []
  },
  {
   "cell_type": "code",
   "execution_count": 36,
   "id": "512a9387",
   "metadata": {},
   "outputs": [],
   "source": [
    "arimapredictab2 = fitarimaab2.forecast(len(testab2))\n",
    "#arimapredictab2 = fitarimaab2.get_forecast(steps=len(testab2))"
   ]
  },
  {
   "cell_type": "code",
   "execution_count": 35,
   "id": "b840dacf",
   "metadata": {},
   "outputs": [],
   "source": [
    "#arimapredictab2"
   ]
  },
  {
   "cell_type": "code",
   "execution_count": 37,
   "id": "7359cca0",
   "metadata": {},
   "outputs": [
    {
     "data": {
      "text/plain": [
       "0.08349426702521481"
      ]
     },
     "execution_count": 37,
     "metadata": {},
     "output_type": "execute_result"
    }
   ],
   "source": [
    "mse(testab2.CELLCOUNT, arimapredictab2, squared=False)"
   ]
  },
  {
   "cell_type": "code",
   "execution_count": 38,
   "id": "ece8feaa",
   "metadata": {},
   "outputs": [
    {
     "data": {
      "text/plain": [
       "[<matplotlib.lines.Line2D at 0x2947a37fcd0>]"
      ]
     },
     "execution_count": 38,
     "metadata": {},
     "output_type": "execute_result"
    },
    {
     "data": {
      "image/png": "[encoded data removed]",
      "text/plain": [
       "<Figure size 640x480 with 1 Axes>"
      ]
     },
     "metadata": {},
     "output_type": "display_data"
    }
   ],
   "source": [
    "plt.plot(testab2.index, testab2.CELLCOUNT,'b',label='Test')\n",
    "plt.plot(testab2.index, arimapredictab2)"
   ]
  },
  {
   "cell_type": "code",
   "execution_count": null,
   "id": "f8b38567",
   "metadata": {},
   "outputs": [],
   "source": []
  },
  {
   "cell_type": "markdown",
   "id": "2b094ec9",
   "metadata": {},
   "source": [
    "## ab3"
   ]
  },
  {
   "cell_type": "code",
   "execution_count": 39,
   "id": "b7dffa2d",
   "metadata": {},
   "outputs": [
    {
     "name": "stdout",
     "output_type": "stream",
     "text": [
      "Performing stepwise search to minimize aic\n",
      " ARIMA(1,1,1)(0,0,0)[0] intercept   : AIC=-546134.452, Time=25.82 sec\n",
      " ARIMA(0,1,0)(0,0,0)[0] intercept   : AIC=-546118.877, Time=12.54 sec\n",
      " ARIMA(1,1,0)(0,0,0)[0] intercept   : AIC=-546146.072, Time=9.33 sec\n",
      " ARIMA(0,1,1)(0,0,0)[0] intercept   : AIC=-546147.713, Time=11.81 sec\n",
      " ARIMA(0,1,0)(0,0,0)[0]             : AIC=-546120.877, Time=4.63 sec\n",
      " ARIMA(0,1,2)(0,0,0)[0] intercept   : AIC=-546197.396, Time=13.37 sec\n",
      " ARIMA(1,1,2)(0,0,0)[0] intercept   : AIC=-546193.933, Time=18.78 sec\n",
      " ARIMA(0,1,3)(0,0,0)[0] intercept   : AIC=-546198.178, Time=18.62 sec\n",
      " ARIMA(1,1,3)(0,0,0)[0] intercept   : AIC=-546191.020, Time=34.89 sec\n",
      " ARIMA(0,1,4)(0,0,0)[0] intercept   : AIC=-546234.232, Time=11.10 sec\n",
      " ARIMA(1,1,4)(0,0,0)[0] intercept   : AIC=-546252.074, Time=33.67 sec\n",
      " ARIMA(2,1,4)(0,0,0)[0] intercept   : AIC=-546282.056, Time=29.99 sec\n",
      " ARIMA(2,1,3)(0,0,0)[0] intercept   : AIC=-546166.186, Time=48.67 sec\n",
      " ARIMA(3,1,4)(0,0,0)[0] intercept   : AIC=-546309.223, Time=36.70 sec\n",
      " ARIMA(3,1,3)(0,0,0)[0] intercept   : AIC=-546186.816, Time=54.42 sec\n",
      " ARIMA(4,1,4)(0,0,0)[0] intercept   : AIC=-546269.015, Time=39.99 sec\n",
      " ARIMA(3,1,5)(0,0,0)[0] intercept   : AIC=-546310.278, Time=43.68 sec\n",
      " ARIMA(2,1,5)(0,0,0)[0] intercept   : AIC=-546312.519, Time=39.66 sec\n",
      " ARIMA(1,1,5)(0,0,0)[0] intercept   : AIC=-546255.108, Time=41.25 sec\n",
      " ARIMA(2,1,5)(0,0,0)[0]             : AIC=-546314.531, Time=20.19 sec\n",
      " ARIMA(1,1,5)(0,0,0)[0]             : AIC=-546257.108, Time=30.95 sec\n",
      " ARIMA(2,1,4)(0,0,0)[0]             : AIC=-546284.066, Time=18.58 sec\n",
      " ARIMA(3,1,5)(0,0,0)[0]             : AIC=-546312.291, Time=21.13 sec\n",
      " ARIMA(1,1,4)(0,0,0)[0]             : AIC=-546254.073, Time=5.98 sec\n",
      " ARIMA(3,1,4)(0,0,0)[0]             : AIC=-546311.257, Time=18.20 sec\n",
      "\n",
      "Best model:  ARIMA(2,1,5)(0,0,0)[0]          \n",
      "Total fit time: 643.961 seconds\n"
     ]
    },
    {
     "data": {
      "text/html": [
       "<table class=\"simpletable\">\n",
       "<caption>SARIMAX Results</caption>\n",
       "<tr>\n",
       "  <th>Dep. Variable:</th>           <td>y</td>        <th>  No. Observations:  </th>    <td>75825</td>   \n",
       "</tr>\n",
       "<tr>\n",
       "  <th>Model:</th>           <td>SARIMAX(2, 1, 5)</td> <th>  Log Likelihood     </th> <td>273165.265</td> \n",
       "</tr>\n",
       "<tr>\n",
       "  <th>Date:</th>            <td>Fri, 26 Apr 2024</td> <th>  AIC                </th> <td>-546314.531</td>\n",
       "</tr>\n",
       "<tr>\n",
       "  <th>Time:</th>                <td>18:22:33</td>     <th>  BIC                </th> <td>-546240.641</td>\n",
       "</tr>\n",
       "<tr>\n",
       "  <th>Sample:</th>                  <td>0</td>        <th>  HQIC               </th> <td>-546291.824</td>\n",
       "</tr>\n",
       "<tr>\n",
       "  <th></th>                     <td> - 75825</td>     <th>                     </th>      <td> </td>     \n",
       "</tr>\n",
       "<tr>\n",
       "  <th>Covariance Type:</th>        <td>opg</td>       <th>                     </th>      <td> </td>     \n",
       "</tr>\n",
       "</table>\n",
       "<table class=\"simpletable\">\n",
       "<tr>\n",
       "     <td></td>       <th>coef</th>     <th>std err</th>      <th>z</th>      <th>P>|z|</th>  <th>[0.025</th>    <th>0.975]</th>  \n",
       "</tr>\n",
       "<tr>\n",
       "  <th>ar.L1</th>  <td>    0.0752</td> <td>    0.077</td> <td>    0.973</td> <td> 0.330</td> <td>   -0.076</td> <td>    0.227</td>\n",
       "</tr>\n",
       "<tr>\n",
       "  <th>ar.L2</th>  <td>    0.6129</td> <td>    0.056</td> <td>   10.977</td> <td> 0.000</td> <td>    0.503</td> <td>    0.722</td>\n",
       "</tr>\n",
       "<tr>\n",
       "  <th>ma.L1</th>  <td>   -0.0963</td> <td>    0.077</td> <td>   -1.247</td> <td> 0.213</td> <td>   -0.248</td> <td>    0.055</td>\n",
       "</tr>\n",
       "<tr>\n",
       "  <th>ma.L2</th>  <td>   -0.6385</td> <td>    0.057</td> <td>  -11.124</td> <td> 0.000</td> <td>   -0.751</td> <td>   -0.526</td>\n",
       "</tr>\n",
       "<tr>\n",
       "  <th>ma.L3</th>  <td>    0.0071</td> <td>    0.001</td> <td>    5.821</td> <td> 0.000</td> <td>    0.005</td> <td>    0.010</td>\n",
       "</tr>\n",
       "<tr>\n",
       "  <th>ma.L4</th>  <td>    0.0383</td> <td>    0.001</td> <td>   42.129</td> <td> 0.000</td> <td>    0.036</td> <td>    0.040</td>\n",
       "</tr>\n",
       "<tr>\n",
       "  <th>ma.L5</th>  <td>    0.0136</td> <td>    0.003</td> <td>    5.324</td> <td> 0.000</td> <td>    0.009</td> <td>    0.019</td>\n",
       "</tr>\n",
       "<tr>\n",
       "  <th>sigma2</th> <td> 4.348e-05</td> <td> 4.53e-09</td> <td> 9602.654</td> <td> 0.000</td> <td> 4.35e-05</td> <td> 4.35e-05</td>\n",
       "</tr>\n",
       "</table>\n",
       "<table class=\"simpletable\">\n",
       "<tr>\n",
       "  <th>Ljung-Box (L1) (Q):</th>     <td>0.00</td> <th>  Jarque-Bera (JB):  </th> <td>80094018492.38</td>\n",
       "</tr>\n",
       "<tr>\n",
       "  <th>Prob(Q):</th>                <td>0.97</td> <th>  Prob(JB):          </th>      <td>0.00</td>     \n",
       "</tr>\n",
       "<tr>\n",
       "  <th>Heteroskedasticity (H):</th> <td>0.01</td> <th>  Skew:              </th>      <td>27.47</td>    \n",
       "</tr>\n",
       "<tr>\n",
       "  <th>Prob(H) (two-sided):</th>    <td>0.00</td> <th>  Kurtosis:          </th>     <td>5037.73</td>   \n",
       "</tr>\n",
       "</table><br/><br/>Warnings:<br/>[1] Covariance matrix calculated using the outer product of gradients (complex-step).<br/>[2] Covariance matrix is singular or near-singular, with condition number 9.06e+14. Standard errors may be unstable."
      ],
      "text/latex": [
       "\\begin{center}\n",
       "\\begin{tabular}{lclc}\n",
       "\\toprule\n",
       "\\textbf{Dep. Variable:}          &        y         & \\textbf{  No. Observations:  } &     75825       \\\\\n",
       "\\textbf{Model:}                  & SARIMAX(2, 1, 5) & \\textbf{  Log Likelihood     } &   273165.265    \\\\\n",
       "\\textbf{Date:}                   & Fri, 26 Apr 2024 & \\textbf{  AIC                } &  -546314.531    \\\\\n",
       "\\textbf{Time:}                   &     18:22:33     & \\textbf{  BIC                } &  -546240.641    \\\\\n",
       "\\textbf{Sample:}                 &        0         & \\textbf{  HQIC               } &  -546291.824    \\\\\n",
       "\\textbf{}                        &      - 75825     & \\textbf{                     } &                 \\\\\n",
       "\\textbf{Covariance Type:}        &       opg        & \\textbf{                     } &                 \\\\\n",
       "\\bottomrule\n",
       "\\end{tabular}\n",
       "\\begin{tabular}{lcccccc}\n",
       "                & \\textbf{coef} & \\textbf{std err} & \\textbf{z} & \\textbf{P$> |$z$|$} & \\textbf{[0.025} & \\textbf{0.975]}  \\\\\n",
       "\\midrule\n",
       "\\textbf{ar.L1}  &       0.0752  &        0.077     &     0.973  &         0.330        &       -0.076    &        0.227     \\\\\n",
       "\\textbf{ar.L2}  &       0.6129  &        0.056     &    10.977  &         0.000        &        0.503    &        0.722     \\\\\n",
       "\\textbf{ma.L1}  &      -0.0963  &        0.077     &    -1.247  &         0.213        &       -0.248    &        0.055     \\\\\n",
       "\\textbf{ma.L2}  &      -0.6385  &        0.057     &   -11.124  &         0.000        &       -0.751    &       -0.526     \\\\\n",
       "\\textbf{ma.L3}  &       0.0071  &        0.001     &     5.821  &         0.000        &        0.005    &        0.010     \\\\\n",
       "\\textbf{ma.L4}  &       0.0383  &        0.001     &    42.129  &         0.000        &        0.036    &        0.040     \\\\\n",
       "\\textbf{ma.L5}  &       0.0136  &        0.003     &     5.324  &         0.000        &        0.009    &        0.019     \\\\\n",
       "\\textbf{sigma2} &    4.348e-05  &     4.53e-09     &  9602.654  &         0.000        &     4.35e-05    &     4.35e-05     \\\\\n",
       "\\bottomrule\n",
       "\\end{tabular}\n",
       "\\begin{tabular}{lclc}\n",
       "\\textbf{Ljung-Box (L1) (Q):}     & 0.00 & \\textbf{  Jarque-Bera (JB):  } & 80094018492.38  \\\\\n",
       "\\textbf{Prob(Q):}                & 0.97 & \\textbf{  Prob(JB):          } &      0.00       \\\\\n",
       "\\textbf{Heteroskedasticity (H):} & 0.01 & \\textbf{  Skew:              } &     27.47       \\\\\n",
       "\\textbf{Prob(H) (two-sided):}    & 0.00 & \\textbf{  Kurtosis:          } &    5037.73      \\\\\n",
       "\\bottomrule\n",
       "\\end{tabular}\n",
       "%\\caption{SARIMAX Results}\n",
       "\\end{center}\n",
       "\n",
       "Warnings: \\newline\n",
       " [1] Covariance matrix calculated using the outer product of gradients (complex-step). \\newline\n",
       " [2] Covariance matrix is singular or near-singular, with condition number 9.06e+14. Standard errors may be unstable."
      ],
      "text/plain": [
       "<class 'statsmodels.iolib.summary.Summary'>\n",
       "\"\"\"\n",
       "                               SARIMAX Results                                \n",
       "==============================================================================\n",
       "Dep. Variable:                      y   No. Observations:                75825\n",
       "Model:               SARIMAX(2, 1, 5)   Log Likelihood              273165.265\n",
       "Date:                Fri, 26 Apr 2024   AIC                        -546314.531\n",
       "Time:                        18:22:33   BIC                        -546240.641\n",
       "Sample:                             0   HQIC                       -546291.824\n",
       "                              - 75825                                         \n",
       "Covariance Type:                  opg                                         \n",
       "==============================================================================\n",
       "                 coef    std err          z      P>|z|      [0.025      0.975]\n",
       "------------------------------------------------------------------------------\n",
       "ar.L1          0.0752      0.077      0.973      0.330      -0.076       0.227\n",
       "ar.L2          0.6129      0.056     10.977      0.000       0.503       0.722\n",
       "ma.L1         -0.0963      0.077     -1.247      0.213      -0.248       0.055\n",
       "ma.L2         -0.6385      0.057    -11.124      0.000      -0.751      -0.526\n",
       "ma.L3          0.0071      0.001      5.821      0.000       0.005       0.010\n",
       "ma.L4          0.0383      0.001     42.129      0.000       0.036       0.040\n",
       "ma.L5          0.0136      0.003      5.324      0.000       0.009       0.019\n",
       "sigma2      4.348e-05   4.53e-09   9602.654      0.000    4.35e-05    4.35e-05\n",
       "===================================================================================\n",
       "Ljung-Box (L1) (Q):                   0.00   Jarque-Bera (JB):       80094018492.38\n",
       "Prob(Q):                              0.97   Prob(JB):                         0.00\n",
       "Heteroskedasticity (H):               0.01   Skew:                            27.47\n",
       "Prob(H) (two-sided):                  0.00   Kurtosis:                      5037.73\n",
       "===================================================================================\n",
       "\n",
       "Warnings:\n",
       "[1] Covariance matrix calculated using the outer product of gradients (complex-step).\n",
       "[2] Covariance matrix is singular or near-singular, with condition number 9.06e+14. Standard errors may be unstable.\n",
       "\"\"\""
      ]
     },
     "execution_count": 39,
     "metadata": {},
     "output_type": "execute_result"
    }
   ],
   "source": [
    "parfind = pm.auto_arima(trainab3['roll_avg'], start_p=1, d=1,\n",
    "                       start_q=1, trace=True, error_action='ignore',\n",
    "                        seasonal=False, stepwise=True)\n",
    "\n",
    "parfind.summary()"
   ]
  },
  {
   "cell_type": "code",
   "execution_count": null,
   "id": "f29c111f",
   "metadata": {},
   "outputs": [],
   "source": [
    "# best arima parameters 2,1,5"
   ]
  },
  {
   "cell_type": "code",
   "execution_count": 40,
   "id": "98161fca",
   "metadata": {},
   "outputs": [],
   "source": [
    "trainarima3 = trainab3.copy()\n",
    "trainarima3.index = trainarima3.index.to_period('M')"
   ]
  },
  {
   "cell_type": "code",
   "execution_count": 41,
   "id": "a564174f",
   "metadata": {},
   "outputs": [],
   "source": [
    "sarimaab3 = sm.ARIMA(trainarima3['roll_avg'], order=(2,1,5))\n",
    "fitarimaab3 = sarimaab3.fit() "
   ]
  },
  {
   "cell_type": "code",
   "execution_count": 42,
   "id": "a03959b9",
   "metadata": {},
   "outputs": [],
   "source": [
    "arimapredictab3 = fitarimaab3.forecast(len(testab3))"
   ]
  },
  {
   "cell_type": "code",
   "execution_count": 43,
   "id": "f3eac9a6",
   "metadata": {},
   "outputs": [
    {
     "data": {
      "text/plain": [
       "0.008800336860366737"
      ]
     },
     "execution_count": 43,
     "metadata": {},
     "output_type": "execute_result"
    }
   ],
   "source": [
    "mse(testab3.CELLCOUNT, arimapredictab3, squared=False)"
   ]
  },
  {
   "cell_type": "code",
   "execution_count": 44,
   "id": "5897b7ae",
   "metadata": {},
   "outputs": [
    {
     "data": {
      "text/plain": [
       "[<matplotlib.lines.Line2D at 0x2947a3d7450>]"
      ]
     },
     "execution_count": 44,
     "metadata": {},
     "output_type": "execute_result"
    },
    {
     "data": {
      "image/png": "[encoded data removed]",
      "text/plain": [
       "<Figure size 640x480 with 1 Axes>"
      ]
     },
     "metadata": {},
     "output_type": "display_data"
    }
   ],
   "source": [
    "plt.plot(testab3.index, testab3.CELLCOUNT,'b',label='Test')\n",
    "plt.plot(testab3.index, arimapredictab3)"
   ]
  },
  {
   "cell_type": "code",
   "execution_count": null,
   "id": "2ea31479",
   "metadata": {},
   "outputs": [],
   "source": []
  },
  {
   "cell_type": "code",
   "execution_count": null,
   "id": "7559b330",
   "metadata": {},
   "outputs": [],
   "source": []
  },
  {
   "cell_type": "code",
   "execution_count": null,
   "id": "17cb1ca3",
   "metadata": {},
   "outputs": [],
   "source": []
  },
  {
   "cell_type": "code",
   "execution_count": null,
   "id": "9f99dafd",
   "metadata": {},
   "outputs": [],
   "source": []
  },
  {
   "cell_type": "markdown",
   "id": "72dc82c8",
   "metadata": {},
   "source": [
    "### Random Forest Model"
   ]
  },
  {
   "cell_type": "code",
   "execution_count": 45,
   "id": "2b3255fa",
   "metadata": {},
   "outputs": [],
   "source": [
    "from sklearn.ensemble import RandomForestRegressor"
   ]
  },
  {
   "cell_type": "code",
   "execution_count": 86,
   "id": "351dc258",
   "metadata": {},
   "outputs": [],
   "source": [
    "model2 = RandomForestRegressor()"
   ]
  },
  {
   "cell_type": "code",
   "execution_count": 87,
   "id": "5cf30558",
   "metadata": {},
   "outputs": [],
   "source": [
    "trainab2.columns\n",
    "treeab2 = trainab2.copy()\n",
    "treeab2test = testab2.copy()"
   ]
  },
  {
   "cell_type": "code",
   "execution_count": 88,
   "id": "b8c1387a",
   "metadata": {},
   "outputs": [],
   "source": [
    "treeab2.reset_index(inplace=True)\n",
    "treeab2test.reset_index(inplace=True)"
   ]
  },
  {
   "cell_type": "code",
   "execution_count": 89,
   "id": "569d159c",
   "metadata": {},
   "outputs": [],
   "source": [
    "treeab2['day'] = treeab2['index'].dt.day.astype(int)\n",
    "treeab2['month'] = treeab2['index'].dt.month.astype(int)\n",
    "treeab2['year'] = treeab2['index'].dt.year.astype(int)"
   ]
  },
  {
   "cell_type": "code",
   "execution_count": 90,
   "id": "e414a827",
   "metadata": {},
   "outputs": [],
   "source": [
    "treeab2test['day'] = treeab2test['index'].dt.day.astype(int)\n",
    "treeab2test['month'] = treeab2test['index'].dt.month.astype(int)\n",
    "treeab2test['year'] = treeab2test['index'].dt.year.astype(int)"
   ]
  },
  {
   "cell_type": "code",
   "execution_count": 91,
   "id": "15577d39",
   "metadata": {},
   "outputs": [],
   "source": [
    "#Normalize the data\n",
    "#(x - min) / (max - min)\n",
    "\n",
    "#treeab2['CELLCOUNT'] = (treeab2['CELLCOUNT'] - treeab2['CELLCOUNT'].min()) / (treeab2['CELLCOUNT'].max() - treeab2['CELLCOUNT'].min())\n",
    "#treeab2['SALINITY'] = (treeab2['SALINITY']- treeab2['SALINITY'].min()) / (treeab2['SALINITY'].max() - treeab2['SALINITY'].min())\n",
    "#treeab2['WATER_TEMP'] = (treeab2['WATER_TEMP']- treeab2['WATER_TEMP'].min()) / (treeab2['WATER_TEMP'].max() - treeab2['WATER_TEMP'].min())"
   ]
  },
  {
   "cell_type": "code",
   "execution_count": 92,
   "id": "dc7a8b0d",
   "metadata": {},
   "outputs": [],
   "source": [
    "#treeab2test['CELLCOUNT'] = (treeab2test['CELLCOUNT'] - treeab2test['CELLCOUNT'].min()) / (treeab2test['CELLCOUNT'].max() - treeab2test['CELLCOUNT'].min())\n",
    "#treeab2test['SALINITY'] = (treeab2test['SALINITY']- treeab2test['SALINITY'].min()) / (treeab2test['SALINITY'].max() - treeab2test['SALINITY'].min())\n",
    "#treeab2test['WATER_TEMP'] = (treeab2test['WATER_TEMP']- treeab2test['WATER_TEMP'].min()) / (treeab2test['WATER_TEMP'].max() - treeab2test['WATER_TEMP'].min())"
   ]
  },
  {
   "cell_type": "code",
   "execution_count": 93,
   "id": "956626e6",
   "metadata": {},
   "outputs": [],
   "source": [
    "target = treeab2['CELLCOUNT']\n",
    "features = treeab2[['SALINITY', 'WATER_TEMP','day','month','year']]"
   ]
  },
  {
   "cell_type": "code",
   "execution_count": 94,
   "id": "eb803f05",
   "metadata": {},
   "outputs": [
    {
     "data": {
      "text/html": [
       "<style>#sk-container-id-3 {color: black;}#sk-container-id-3 pre{padding: 0;}#sk-container-id-3 div.sk-toggleable {background-color: white;}#sk-container-id-3 label.sk-toggleable__label {cursor: pointer;display: block;width: 100%;margin-bottom: 0;padding: 0.3em;box-sizing: border-box;text-align: center;}#sk-container-id-3 label.sk-toggleable__label-arrow:before {content: \"▸\";float: left;margin-right: 0.25em;color: #696969;}#sk-container-id-3 label.sk-toggleable__label-arrow:hover:before {color: black;}#sk-container-id-3 div.sk-estimator:hover label.sk-toggleable__label-arrow:before {color: black;}#sk-container-id-3 div.sk-toggleable__content {max-height: 0;max-width: 0;overflow: hidden;text-align: left;background-color: #f0f8ff;}#sk-container-id-3 div.sk-toggleable__content pre {margin: 0.2em;color: black;border-radius: 0.25em;background-color: #f0f8ff;}#sk-container-id-3 input.sk-toggleable__control:checked~div.sk-toggleable__content {max-height: 200px;max-width: 100%;overflow: auto;}#sk-container-id-3 input.sk-toggleable__control:checked~label.sk-toggleable__label-arrow:before {content: \"▾\";}#sk-container-id-3 div.sk-estimator input.sk-toggleable__control:checked~label.sk-toggleable__label {background-color: #d4ebff;}#sk-container-id-3 div.sk-label input.sk-toggleable__control:checked~label.sk-toggleable__label {background-color: #d4ebff;}#sk-container-id-3 input.sk-hidden--visually {border: 0;clip: rect(1px 1px 1px 1px);clip: rect(1px, 1px, 1px, 1px);height: 1px;margin: -1px;overflow: hidden;padding: 0;position: absolute;width: 1px;}#sk-container-id-3 div.sk-estimator {font-family: monospace;background-color: #f0f8ff;border: 1px dotted black;border-radius: 0.25em;box-sizing: border-box;margin-bottom: 0.5em;}#sk-container-id-3 div.sk-estimator:hover {background-color: #d4ebff;}#sk-container-id-3 div.sk-parallel-item::after {content: \"\";width: 100%;border-bottom: 1px solid gray;flex-grow: 1;}#sk-container-id-3 div.sk-label:hover label.sk-toggleable__label {background-color: #d4ebff;}#sk-container-id-3 div.sk-serial::before {content: \"\";position: absolute;border-left: 1px solid gray;box-sizing: border-box;top: 0;bottom: 0;left: 50%;z-index: 0;}#sk-container-id-3 div.sk-serial {display: flex;flex-direction: column;align-items: center;background-color: white;padding-right: 0.2em;padding-left: 0.2em;position: relative;}#sk-container-id-3 div.sk-item {position: relative;z-index: 1;}#sk-container-id-3 div.sk-parallel {display: flex;align-items: stretch;justify-content: center;background-color: white;position: relative;}#sk-container-id-3 div.sk-item::before, #sk-container-id-3 div.sk-parallel-item::before {content: \"\";position: absolute;border-left: 1px solid gray;box-sizing: border-box;top: 0;bottom: 0;left: 50%;z-index: -1;}#sk-container-id-3 div.sk-parallel-item {display: flex;flex-direction: column;z-index: 1;position: relative;background-color: white;}#sk-container-id-3 div.sk-parallel-item:first-child::after {align-self: flex-end;width: 50%;}#sk-container-id-3 div.sk-parallel-item:last-child::after {align-self: flex-start;width: 50%;}#sk-container-id-3 div.sk-parallel-item:only-child::after {width: 0;}#sk-container-id-3 div.sk-dashed-wrapped {border: 1px dashed gray;margin: 0 0.4em 0.5em 0.4em;box-sizing: border-box;padding-bottom: 0.4em;background-color: white;}#sk-container-id-3 div.sk-label label {font-family: monospace;font-weight: bold;display: inline-block;line-height: 1.2em;}#sk-container-id-3 div.sk-label-container {text-align: center;}#sk-container-id-3 div.sk-container {/* jupyter's `normalize.less` sets `[hidden] { display: none; }` but bootstrap.min.css set `[hidden] { display: none !important; }` so we also need the `!important` here to be able to override the default hidden behavior on the sphinx rendered scikit-learn.org. See: https://github.com/scikit-learn/scikit-learn/issues/21755 */display: inline-block !important;position: relative;}#sk-container-id-3 div.sk-text-repr-fallback {display: none;}</style><div id=\"sk-container-id-3\" class=\"sk-top-container\"><div class=\"sk-text-repr-fallback\"><pre>RandomForestRegressor()</pre><b>In a Jupyter environment, please rerun this cell to show the HTML representation or trust the notebook. <br />On GitHub, the HTML representation is unable to render, please try loading this page with nbviewer.org.</b></div><div class=\"sk-container\" hidden><div class=\"sk-item\"><div class=\"sk-estimator sk-toggleable\"><input class=\"sk-toggleable__control sk-hidden--visually\" id=\"sk-estimator-id-3\" type=\"checkbox\" checked><label for=\"sk-estimator-id-3\" class=\"sk-toggleable__label sk-toggleable__label-arrow\">RandomForestRegressor</label><div class=\"sk-toggleable__content\"><pre>RandomForestRegressor()</pre></div></div></div></div></div>"
      ],
      "text/plain": [
       "RandomForestRegressor()"
      ]
     },
     "execution_count": 94,
     "metadata": {},
     "output_type": "execute_result"
    }
   ],
   "source": [
    "model2.fit(features, target)"
   ]
  },
  {
   "cell_type": "code",
   "execution_count": 95,
   "id": "9384dc6f",
   "metadata": {},
   "outputs": [],
   "source": [
    "predictiontreeab2 = model2.predict(treeab2test[['SALINITY', 'WATER_TEMP','day','month','year']])"
   ]
  },
  {
   "cell_type": "code",
   "execution_count": 96,
   "id": "3e41a9c6",
   "metadata": {},
   "outputs": [
    {
     "data": {
      "image/png": "[encoded data removed]",
      "text/plain": [
       "<Figure size 640x480 with 1 Axes>"
      ]
     },
     "metadata": {},
     "output_type": "display_data"
    }
   ],
   "source": [
    "plt.plot(treeab2test.index,treeab2test.CELLCOUNT/scale,'b',label='Test Data')\n",
    "plt.plot(treeab2test.index, predictiontreeab2,'r',label='Forecast')\n",
    "plt.xlabel('Date')\n",
    "plt.ylabel('Cell Count')\n",
    "plt.legend()\n",
    "plt.show()\n",
    "plt.close()"
   ]
  },
  {
   "cell_type": "code",
   "execution_count": 97,
   "id": "4954881e",
   "metadata": {},
   "outputs": [
    {
     "name": "stdout",
     "output_type": "stream",
     "text": [
      "Root Mean Square is  7.306968e-02\n"
     ]
    }
   ],
   "source": [
    "print('Root Mean Square is ', \"{:e}\".format(mse(treeab2test.CELLCOUNT, predictiontreeab2, squared=False)))"
   ]
  },
  {
   "cell_type": "code",
   "execution_count": 98,
   "id": "b041d40f",
   "metadata": {},
   "outputs": [],
   "source": [
    "model3 = RandomForestRegressor()"
   ]
  },
  {
   "cell_type": "code",
   "execution_count": 99,
   "id": "a7870905",
   "metadata": {},
   "outputs": [],
   "source": [
    "treeab3 = trainab3.copy()\n",
    "treeab3test = testab3.copy()"
   ]
  },
  {
   "cell_type": "code",
   "execution_count": 100,
   "id": "d0a157e9",
   "metadata": {},
   "outputs": [],
   "source": [
    "treeab3.reset_index(inplace=True)\n",
    "treeab3test.reset_index(inplace=True)\n",
    "\n",
    "#treeab3.head()"
   ]
  },
  {
   "cell_type": "code",
   "execution_count": 101,
   "id": "2c3ba972",
   "metadata": {},
   "outputs": [],
   "source": [
    "treeab3['day'] = treeab3['SAMPLE_DATE'].dt.day.astype(int)\n",
    "treeab3['month'] = treeab3['SAMPLE_DATE'].dt.month.astype(int)\n",
    "treeab3['year'] = treeab3['SAMPLE_DATE'].dt.year.astype(int)"
   ]
  },
  {
   "cell_type": "code",
   "execution_count": 102,
   "id": "10a0dbf4",
   "metadata": {},
   "outputs": [],
   "source": [
    "treeab3test['day'] = treeab3test['SAMPLE_DATE'].dt.day.astype(int)\n",
    "treeab3test['month'] = treeab3test['SAMPLE_DATE'].dt.month.astype(int)\n",
    "treeab3test['year'] = treeab3test['SAMPLE_DATE'].dt.year.astype(int)"
   ]
  },
  {
   "cell_type": "code",
   "execution_count": null,
   "id": "d1fe376b",
   "metadata": {},
   "outputs": [],
   "source": []
  },
  {
   "cell_type": "code",
   "execution_count": 103,
   "id": "d446c280",
   "metadata": {},
   "outputs": [],
   "source": [
    "#Normalize the data\n",
    "#(x - min) / (max - min)\n",
    "\n",
    "#treeab3['CELLCOUNT'] = (treeab3['CELLCOUNT'] - treeab3['CELLCOUNT'].min()) / (treeab3['CELLCOUNT'].max() - treeab3['CELLCOUNT'].min())\n",
    "#treeab3['SALINITY'] = (treeab3['SALINITY']- treeab3['SALINITY'].min()) / (treeab3['SALINITY'].max() - treeab3['SALINITY'].min())\n",
    "#treeab3['WATER_TEMP'] = (treeab3['WATER_TEMP']- treeab3['WATER_TEMP'].min()) / (treeab3['WATER_TEMP'].max() - treeab3['WATER_TEMP'].min())\n",
    "\n",
    "#treeab3test['CELLCOUNT'] = (treeab3test['CELLCOUNT'] - treeab3test['CELLCOUNT'].min()) / (treeab3test['CELLCOUNT'].max() - treeab3test['CELLCOUNT'].min())\n",
    "#treeab3test['SALINITY'] = (treeab3test['SALINITY']- treeab3test['SALINITY'].min()) / (treeab3test['SALINITY'].max() - treeab3test['SALINITY'].min())\n",
    "#treeab3test['WATER_TEMP'] = (treeab3test['WATER_TEMP']- treeab3test['WATER_TEMP'].min()) / (treeab3test['WATER_TEMP'].max() - treeab3test['WATER_TEMP'].min())"
   ]
  },
  {
   "cell_type": "code",
   "execution_count": null,
   "id": "eee74e2c",
   "metadata": {},
   "outputs": [],
   "source": []
  },
  {
   "cell_type": "code",
   "execution_count": 104,
   "id": "8c29317d",
   "metadata": {},
   "outputs": [],
   "source": [
    "target = treeab3['roll_avg']\n",
    "features = treeab3[['SALINITY', 'WATER_TEMP', 'day','month','year']]"
   ]
  },
  {
   "cell_type": "code",
   "execution_count": 105,
   "id": "cd6b78fc",
   "metadata": {},
   "outputs": [],
   "source": [
    "#THERES NA IN sample depth so I'm just not using that column for now"
   ]
  },
  {
   "cell_type": "code",
   "execution_count": null,
   "id": "2d7734fd",
   "metadata": {},
   "outputs": [],
   "source": []
  },
  {
   "cell_type": "code",
   "execution_count": 106,
   "id": "63085562",
   "metadata": {},
   "outputs": [
    {
     "data": {
      "text/html": [
       "<style>#sk-container-id-4 {color: black;}#sk-container-id-4 pre{padding: 0;}#sk-container-id-4 div.sk-toggleable {background-color: white;}#sk-container-id-4 label.sk-toggleable__label {cursor: pointer;display: block;width: 100%;margin-bottom: 0;padding: 0.3em;box-sizing: border-box;text-align: center;}#sk-container-id-4 label.sk-toggleable__label-arrow:before {content: \"▸\";float: left;margin-right: 0.25em;color: #696969;}#sk-container-id-4 label.sk-toggleable__label-arrow:hover:before {color: black;}#sk-container-id-4 div.sk-estimator:hover label.sk-toggleable__label-arrow:before {color: black;}#sk-container-id-4 div.sk-toggleable__content {max-height: 0;max-width: 0;overflow: hidden;text-align: left;background-color: #f0f8ff;}#sk-container-id-4 div.sk-toggleable__content pre {margin: 0.2em;color: black;border-radius: 0.25em;background-color: #f0f8ff;}#sk-container-id-4 input.sk-toggleable__control:checked~div.sk-toggleable__content {max-height: 200px;max-width: 100%;overflow: auto;}#sk-container-id-4 input.sk-toggleable__control:checked~label.sk-toggleable__label-arrow:before {content: \"▾\";}#sk-container-id-4 div.sk-estimator input.sk-toggleable__control:checked~label.sk-toggleable__label {background-color: #d4ebff;}#sk-container-id-4 div.sk-label input.sk-toggleable__control:checked~label.sk-toggleable__label {background-color: #d4ebff;}#sk-container-id-4 input.sk-hidden--visually {border: 0;clip: rect(1px 1px 1px 1px);clip: rect(1px, 1px, 1px, 1px);height: 1px;margin: -1px;overflow: hidden;padding: 0;position: absolute;width: 1px;}#sk-container-id-4 div.sk-estimator {font-family: monospace;background-color: #f0f8ff;border: 1px dotted black;border-radius: 0.25em;box-sizing: border-box;margin-bottom: 0.5em;}#sk-container-id-4 div.sk-estimator:hover {background-color: #d4ebff;}#sk-container-id-4 div.sk-parallel-item::after {content: \"\";width: 100%;border-bottom: 1px solid gray;flex-grow: 1;}#sk-container-id-4 div.sk-label:hover label.sk-toggleable__label {background-color: #d4ebff;}#sk-container-id-4 div.sk-serial::before {content: \"\";position: absolute;border-left: 1px solid gray;box-sizing: border-box;top: 0;bottom: 0;left: 50%;z-index: 0;}#sk-container-id-4 div.sk-serial {display: flex;flex-direction: column;align-items: center;background-color: white;padding-right: 0.2em;padding-left: 0.2em;position: relative;}#sk-container-id-4 div.sk-item {position: relative;z-index: 1;}#sk-container-id-4 div.sk-parallel {display: flex;align-items: stretch;justify-content: center;background-color: white;position: relative;}#sk-container-id-4 div.sk-item::before, #sk-container-id-4 div.sk-parallel-item::before {content: \"\";position: absolute;border-left: 1px solid gray;box-sizing: border-box;top: 0;bottom: 0;left: 50%;z-index: -1;}#sk-container-id-4 div.sk-parallel-item {display: flex;flex-direction: column;z-index: 1;position: relative;background-color: white;}#sk-container-id-4 div.sk-parallel-item:first-child::after {align-self: flex-end;width: 50%;}#sk-container-id-4 div.sk-parallel-item:last-child::after {align-self: flex-start;width: 50%;}#sk-container-id-4 div.sk-parallel-item:only-child::after {width: 0;}#sk-container-id-4 div.sk-dashed-wrapped {border: 1px dashed gray;margin: 0 0.4em 0.5em 0.4em;box-sizing: border-box;padding-bottom: 0.4em;background-color: white;}#sk-container-id-4 div.sk-label label {font-family: monospace;font-weight: bold;display: inline-block;line-height: 1.2em;}#sk-container-id-4 div.sk-label-container {text-align: center;}#sk-container-id-4 div.sk-container {/* jupyter's `normalize.less` sets `[hidden] { display: none; }` but bootstrap.min.css set `[hidden] { display: none !important; }` so we also need the `!important` here to be able to override the default hidden behavior on the sphinx rendered scikit-learn.org. See: https://github.com/scikit-learn/scikit-learn/issues/21755 */display: inline-block !important;position: relative;}#sk-container-id-4 div.sk-text-repr-fallback {display: none;}</style><div id=\"sk-container-id-4\" class=\"sk-top-container\"><div class=\"sk-text-repr-fallback\"><pre>RandomForestRegressor()</pre><b>In a Jupyter environment, please rerun this cell to show the HTML representation or trust the notebook. <br />On GitHub, the HTML representation is unable to render, please try loading this page with nbviewer.org.</b></div><div class=\"sk-container\" hidden><div class=\"sk-item\"><div class=\"sk-estimator sk-toggleable\"><input class=\"sk-toggleable__control sk-hidden--visually\" id=\"sk-estimator-id-4\" type=\"checkbox\" checked><label for=\"sk-estimator-id-4\" class=\"sk-toggleable__label sk-toggleable__label-arrow\">RandomForestRegressor</label><div class=\"sk-toggleable__content\"><pre>RandomForestRegressor()</pre></div></div></div></div></div>"
      ],
      "text/plain": [
       "RandomForestRegressor()"
      ]
     },
     "execution_count": 106,
     "metadata": {},
     "output_type": "execute_result"
    }
   ],
   "source": [
    "model3.fit(features, target)"
   ]
  },
  {
   "cell_type": "code",
   "execution_count": 107,
   "id": "939ba01f",
   "metadata": {},
   "outputs": [],
   "source": [
    "predictiontreeab3 = model3.predict(treeab3test[['SALINITY', 'WATER_TEMP','day','month','year']])"
   ]
  },
  {
   "cell_type": "code",
   "execution_count": 108,
   "id": "567b8720",
   "metadata": {},
   "outputs": [
    {
     "data": {
      "image/png": "[encoded data removed]",
      "text/plain": [
       "<Figure size 640x480 with 1 Axes>"
      ]
     },
     "metadata": {},
     "output_type": "display_data"
    }
   ],
   "source": [
    "plt.plot(treeab3test['SAMPLE_DATE'],treeab3test.roll_avg,'b',label='Test Data')\n",
    "plt.plot(treeab3test['SAMPLE_DATE'], predictiontreeab3,'r',label='Forecast',alpha=0.3)\n",
    "plt.xlabel('Date')\n",
    "plt.ylabel('Normalized Cell Count')\n",
    "plt.xticks(rotation=90)\n",
    "plt.legend()\n",
    "plt.show()\n",
    "plt.close()"
   ]
  },
  {
   "cell_type": "code",
   "execution_count": 109,
   "id": "b44fa369",
   "metadata": {},
   "outputs": [
    {
     "name": "stdout",
     "output_type": "stream",
     "text": [
      "Root Mean Square is  9.019981e-02\n"
     ]
    }
   ],
   "source": [
    "print('Root Mean Square is ', \"{:e}\".format(mse(treeab3test.roll_avg, predictiontreeab3, squared=False)))"
   ]
  },
  {
   "cell_type": "markdown",
   "id": "098f8444",
   "metadata": {},
   "source": [
    "| Models                              | Monthly Average |  Raw Data   |  Rolling Aveage (30 days) |\n",
    "| :---------------- | :------: | :------: | ----: |\n",
    "| Simple Exponential Smoothing        |   8.46e-02   | 8.61e-03 |  1.17e-02    |\n",
    "| ARIMA                               |   8.34E-02   | tba |  8.80e-03   |\n",
    "| Random Forest                       |  7.44e-02   | 8.77e-03 |  9.01e-02   |\n",
    "   "
   ]
  },
  {
   "cell_type": "markdown",
   "id": "589bece5",
   "metadata": {},
   "source": [
    "| Models                              | Root Mean Square|\n",
    "| :---------------- | ------: | \n",
    "|Average Baseline |  8.183e-02   |\n",
    "| Simple Exponential Smoothing        |  1.17e-02   |\n",
    "| ARIMA                               |  8.80e-03   |\n",
    "| Random Forest                       |  9.01e-02   |\n",
    "   "
   ]
  },
  {
   "cell_type": "markdown",
   "id": "4b666e47",
   "metadata": {},
   "source": [
    "## Lets predict the Future"
   ]
  },
  {
   "cell_type": "code",
   "execution_count": 82,
   "id": "8690e8b9",
   "metadata": {
    "scrolled": true
   },
   "outputs": [],
   "source": [
    "#Generating Future data\n",
    "#The next year\n",
    "futvarab2 = treeab2test.groupby(treeab2test['index'].dt.month)[['SALINITY','WATER_TEMP']].mean()\n"
   ]
  },
  {
   "cell_type": "code",
   "execution_count": 83,
   "id": "43bf85be",
   "metadata": {},
   "outputs": [],
   "source": [
    "futvarab2['date'] = [datetime(2024,i,1) for i in futvarab2.index]"
   ]
  },
  {
   "cell_type": "code",
   "execution_count": 84,
   "id": "7fb8a1ff",
   "metadata": {},
   "outputs": [],
   "source": [
    "futvarab2['day'] = futvarab2['date'].dt.day.astype(int)\n",
    "futvarab2['month'] = futvarab2['date'].dt.month.astype(int)\n",
    "futvarab2['year'] = futvarab2['date'].dt.year.astype(int)"
   ]
  },
  {
   "cell_type": "code",
   "execution_count": null,
   "id": "e2ca7c56",
   "metadata": {},
   "outputs": [],
   "source": []
  },
  {
   "cell_type": "code",
   "execution_count": 120,
   "id": "44acce6b",
   "metadata": {
    "scrolled": true
   },
   "outputs": [],
   "source": [
    "futvarab3 = treeab3test.groupby(treeab3test['SAMPLE_DATE'].dt.month)[['SALINITY','WATER_TEMP']].mean()\n"
   ]
  },
  {
   "cell_type": "code",
   "execution_count": 121,
   "id": "fb72d046",
   "metadata": {},
   "outputs": [],
   "source": [
    "futvarab3.reset_index()\n",
    "futvarab3['SAMPLE_DATE'] = [datetime(2024,i,1) for i in futvarab3.index]\n",
    "                            \n",
    "futvarab3['day'] = futvarab3['SAMPLE_DATE'].dt.day.astype(int)\n",
    "futvarab3['month'] = futvarab3['SAMPLE_DATE'].dt.month.astype(int)\n",
    "futvarab3['year'] = futvarab3['SAMPLE_DATE'].dt.year.astype(int)                           "
   ]
  },
  {
   "cell_type": "markdown",
   "id": "94302062",
   "metadata": {},
   "source": [
    "### Random Forest ab2"
   ]
  },
  {
   "cell_type": "code",
   "execution_count": 113,
   "id": "645fb175",
   "metadata": {},
   "outputs": [],
   "source": [
    "futtreeab2 = model2.predict(futvarab2[['SALINITY', 'WATER_TEMP','day','month','year']])"
   ]
  },
  {
   "cell_type": "code",
   "execution_count": 114,
   "id": "ffc5a662",
   "metadata": {},
   "outputs": [
    {
     "data": {
      "image/png": "[encoded data removed]",
      "text/plain": [
       "<Figure size 640x480 with 1 Axes>"
      ]
     },
     "metadata": {},
     "output_type": "display_data"
    }
   ],
   "source": [
    "plt.plot(futvarab2.date, futtreeab2,'r',label='Forecast')\n",
    "plt.xlabel('Date')\n",
    "plt.ylabel('Cell Count')\n",
    "plt.legend()\n",
    "plt.show()\n",
    "plt.close()"
   ]
  },
  {
   "cell_type": "markdown",
   "id": "69a35b5d",
   "metadata": {},
   "source": [
    "## Random Forest ab3"
   ]
  },
  {
   "cell_type": "code",
   "execution_count": 122,
   "id": "3cd97f08",
   "metadata": {},
   "outputs": [],
   "source": [
    "futtreeab3 = model3.predict(futvarab3[['SALINITY', 'WATER_TEMP','day','month','year']])"
   ]
  },
  {
   "cell_type": "code",
   "execution_count": 123,
   "id": "0a24ca5b",
   "metadata": {},
   "outputs": [
    {
     "data": {
      "image/png": "[encoded data removed]",
      "text/plain": [
       "<Figure size 640x480 with 1 Axes>"
      ]
     },
     "metadata": {},
     "output_type": "display_data"
    }
   ],
   "source": [
    "plt.plot(futvarab3.SAMPLE_DATE, futtreeab3,'r',label='Forecast')\n",
    "plt.xlabel('Date')\n",
    "plt.ylabel('Cell Count')\n",
    "plt.legend()\n",
    "plt.show()\n",
    "plt.close()"
   ]
  },
  {
   "cell_type": "markdown",
   "id": "d1718404",
   "metadata": {},
   "source": [
    "## ARIMA ab2"
   ]
  },
  {
   "cell_type": "code",
   "execution_count": null,
   "id": "07e1dc1a",
   "metadata": {},
   "outputs": [],
   "source": []
  },
  {
   "cell_type": "code",
   "execution_count": null,
   "id": "163e3184",
   "metadata": {},
   "outputs": [],
   "source": []
  },
  {
   "cell_type": "code",
   "execution_count": null,
   "id": "be5e52a4",
   "metadata": {},
   "outputs": [],
   "source": []
  },
  {
   "cell_type": "code",
   "execution_count": 45,
   "id": "54aa8780",
   "metadata": {},
   "outputs": [
    {
     "name": "stderr",
     "output_type": "stream",
     "text": [
      "No artists with labels found to put in legend.  Note that artists whose label start with an underscore are ignored when legend() is called with no argument.\n"
     ]
    },
    {
     "data": {
      "image/png": "[encoded data removed]",
      "text/plain": [
       "<Figure size 640x480 with 1 Axes>"
      ]
     },
     "metadata": {},
     "output_type": "display_data"
    }
   ],
   "source": [
    "plt.plot(treeab3test['SAMPLE_DATE'],treeab3test.roll_avg,'b')\n",
    "plt.xlabel('Date')\n",
    "plt.ylabel('Normalized Cell Count')\n",
    "plt.xticks(rotation=90)\n",
    "plt.legend()\n",
    "plt.show()\n",
    "plt.savefig\n",
    "plt.close()"
   ]
  },
  {
   "cell_type": "code",
   "execution_count": 57,
   "id": "ced717ac",
   "metadata": {},
   "outputs": [],
   "source": [
    "aaa = trainab2['CELLCOUNT'].mean()"
   ]
  },
  {
   "cell_type": "code",
   "execution_count": 58,
   "id": "1cf4d8a5",
   "metadata": {},
   "outputs": [
    {
     "data": {
      "text/plain": [
       "array([0.01913722, 0.01913722, 0.01913722, 0.01913722, 0.01913722,\n",
       "       0.01913722, 0.01913722, 0.01913722, 0.01913722, 0.01913722,\n",
       "       0.01913722, 0.01913722, 0.01913722, 0.01913722, 0.01913722,\n",
       "       0.01913722, 0.01913722, 0.01913722, 0.01913722, 0.01913722,\n",
       "       0.01913722, 0.01913722, 0.01913722, 0.01913722, 0.01913722,\n",
       "       0.01913722, 0.01913722, 0.01913722, 0.01913722, 0.01913722,\n",
       "       0.01913722, 0.01913722, 0.01913722, 0.01913722, 0.01913722,\n",
       "       0.01913722, 0.01913722, 0.01913722, 0.01913722, 0.01913722,\n",
       "       0.01913722, 0.01913722])"
      ]
     },
     "execution_count": 58,
     "metadata": {},
     "output_type": "execute_result"
    }
   ],
   "source": [
    "avgpred = aaa*np.ones(len(testab2))\n",
    "avgpred"
   ]
  },
  {
   "cell_type": "code",
   "execution_count": 59,
   "id": "e08b3ac8",
   "metadata": {},
   "outputs": [
    {
     "data": {
      "text/plain": [
       "0.08183251009390509"
      ]
     },
     "execution_count": 59,
     "metadata": {},
     "output_type": "execute_result"
    }
   ],
   "source": [
    "mse(testab2.CELLCOUNT, avgpred, squared=False)"
   ]
  },
  {
   "cell_type": "code",
   "execution_count": 60,
   "id": "3df27fc6",
   "metadata": {},
   "outputs": [
    {
     "data": {
      "image/png": "[encoded data removed]",
      "text/plain": [
       "<Figure size 640x480 with 1 Axes>"
      ]
     },
     "metadata": {},
     "output_type": "display_data"
    }
   ],
   "source": [
    "plt.plot(testab2.index, testab2.CELLCOUNT)\n",
    "plt.plot(testab2.index, avgpred)\n",
    "plt.show()"
   ]
  },
  {
   "cell_type": "code",
   "execution_count": null,
   "id": "e8d7bfd2",
   "metadata": {},
   "outputs": [],
   "source": []
  }
 ],
 "metadata": {
  "kernelspec": {
   "display_name": "Python 3 (ipykernel)",
   "language": "python",
   "name": "python3"
  },
  "language_info": {
   "codemirror_mode": {
    "name": "ipython",
    "version": 3
   },
   "file_extension": ".py",
   "mimetype": "text/x-python",
   "name": "python",
   "nbconvert_exporter": "python",
   "pygments_lexer": "ipython3",
   "version": "3.11.4"
  }
 },
 "nbformat": 4,
 "nbformat_minor": 5
}
